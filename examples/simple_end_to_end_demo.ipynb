{
  "cells": [
    {
      "cell_type": "markdown",
      "metadata": {
        "id": "x1LyGCNZhWBH"
      },
      "source": [
        ":\u003ctable class=\"tfo-notebook-buttons\" align=\"left\"\u003e\n",
        "  \u003ctd\u003e\n",
        "    \u003ca target=\"_blank\" href=\"https://colab.research.google.com/github/google/lightweight_mmm/blob/main/examples/simple_end_to_end_demo.ipynb\"\u003e\u003cimg src=\"https://www.tensorflow.org/images/colab_logo_32px.png\" /\u003eRun in Google Colab\u003c/a\u003e\n",
        "  \u003c/td\u003e\n",
        "  \u003ctd\u003e\n",
        "    \u003ca target=\"_blank\" href=\"https://github.com/google/lightweight_mmm/blob/main/examples/simple_end_to_end_demo.ipynb\"\u003e\u003cimg src=\"https://www.tensorflow.org/images/GitHub-Mark-32px.png\" /\u003eView source on GitHub\u003c/a\u003e\n",
        "  \u003c/td\u003e\n",
        "\u003c/table\u003e"
      ]
    },
    {
      "cell_type": "markdown",
      "metadata": {
        "id": "AEdi78qH1Jhq"
      },
      "source": [
        "# Simple End to End Demo"
      ]
    },
    {
      "cell_type": "markdown",
      "metadata": {
        "id": "Kz-eYQ7TKVG9"
      },
      "source": [
        "Welcome to the end to end demo of LightweightMMM. This is a very simple demo in \n",
        "which we showcase the basic usage and functionalities of the library."
      ]
    },
    {
      "cell_type": "markdown",
      "metadata": {
        "id": "gmrJXoY2PlKI"
      },
      "source": [
        "Disclaimer: This notebook skips all exploratory data analysis and preprocessing (besides scaling) and assumes the user will do or has done it prior to engaging this point of the demo.\n",
        "\n",
        "This notebook uses dummy data and therefore the numbers and results might not be representative of what one might get on a real dataset. "
      ]
    },
    {
      "cell_type": "markdown",
      "metadata": {
        "id": "WmpDBp6dusp0"
      },
      "source": [
        "For running chains in parallel you can set the number of CPUs at the begining of the program like the following:\n",
        "`numpyro.set_host_device_count(n)`"
      ]
    },
    {
      "cell_type": "code",
      "execution_count": null,
      "metadata": {
        "id": "EmkFKiQjZ7kC"
      },
      "outputs": [],
      "source": [
        "# First would be to install lightweight_mmm\n",
        "!pip install --upgrade git+https://github.com/google/lightweight_mmm.git"
      ]
    },
    {
      "cell_type": "code",
      "execution_count": null,
      "metadata": {
        "id": "afF7ZlEz37eC"
      },
      "outputs": [],
      "source": [
        "# Import jax.numpy and any other library we might need.\n",
        "import jax.numpy as jnp\n",
        "import numpyro"
      ]
    },
    {
      "cell_type": "code",
      "execution_count": null,
      "metadata": {
        "id": "Ltk-rB9y-_fh"
      },
      "outputs": [],
      "source": [
        "# Import the relevant modules of the library\n",
        "from lightweight_mmm import lightweight_mmm\n",
        "from lightweight_mmm import optimize_media\n",
        "from lightweight_mmm import plot\n",
        "from lightweight_mmm import preprocessing\n",
        "from lightweight_mmm import utils"
      ]
    },
    {
      "cell_type": "markdown",
      "metadata": {
        "id": "lGa5iPF4zdOo"
      },
      "source": [
        "## Organising the data for modelling"
      ]
    },
    {
      "cell_type": "code",
      "execution_count": null,
      "metadata": {
        "id": "AF0gS72Hhwml"
      },
      "outputs": [],
      "source": [
        "SEED = 105\n",
        "N_CHAINS = 2"
      ]
    },
    {
      "cell_type": "code",
      "execution_count": null,
      "metadata": {
        "id": "R6oDCH5w4M_y"
      },
      "outputs": [],
      "source": [
        "data_size = 104 + 13\n",
        "n_media_channels = 3\n",
        "n_extra_features = 1"
      ]
    },
    {
      "cell_type": "code",
      "execution_count": null,
      "metadata": {
        "id": "kOq-mfJO4QVP"
      },
      "outputs": [],
      "source": [
        "media_data, extra_features, target, costs = utils.simulate_dummy_data(\n",
        "    data_size=data_size,\n",
        "    n_media_channels=n_media_channels,\n",
        "    n_extra_features=n_extra_features)"
      ]
    },
    {
      "cell_type": "markdown",
      "metadata": {
        "id": "58yFB05A4e0j"
      },
      "source": [
        "We can then split the dataset into train and test. Lets leave only the last 13 weeks for testing in this case."
      ]
    },
    {
      "cell_type": "code",
      "execution_count": null,
      "metadata": {
        "id": "xMMKo3fK4UN4"
      },
      "outputs": [],
      "source": [
        "# Split and scale data.\n",
        "split_point = data_size - 13\n",
        "# Media data\n",
        "media_data_train = media_data[:split_point, ...]\n",
        "media_data_test = media_data[split_point:, ...]\n",
        "# Extra features\n",
        "extra_features_train = extra_features[:split_point, ...]\n",
        "extra_features_test = extra_features[split_point:, ...]\n",
        "# Target\n",
        "target_train = target[:split_point]"
      ]
    },
    {
      "cell_type": "markdown",
      "metadata": {
        "id": "A0pZBcF14lPV"
      },
      "source": [
        "Scaling is essential for many modelling problems and this one is no exception.\n",
        "\n",
        "We provide the class `CustomScaler` which behaves accordingly with `sklearn`\n",
        "scalers.\n",
        "\n",
        "In most cases you will need 3 or 4 scalers. One scaler for the media data, one\n",
        "for the target and one for costs. Optionally if you are adding extra features\n",
        "those might need an extra scaler. **It is very important that you save and\n",
        "\"carry with you\" those scalers throughout your MMM journey as LighweightMMM will\n",
        "allow you to re-insert these scalers at different points to ensure everything is\n",
        "always in the correct scale and results. If some results don't make sense, it\n",
        "might be a scaling problem.**"
      ]
    },
    {
      "cell_type": "markdown",
      "metadata": {
        "id": "tGAjohQH4qCO"
      },
      "source": [
        "A few more details on CustomScaler usage:\n",
        "\n",
        "This scaler can be used in two fashions for both the multiplication and division\n",
        "operation. \n",
        "- By specifying a value to use for the scaling operation. \n",
        "- By specifying an operation used at column level to calculate the value for the\n",
        "actual scaling operation.\n",
        "\n",
        "Eg. if one wants to scale the dataset by multiply by 100 you can directly pass\n",
        "multiply_by=100. Value can also be an array of an appropriate shape by which\n",
        "to divide or multiply the data. But if you want to multiply by the mean value of each\n",
        "column, then you can pass multiply_operation=jnp.mean (or any other operation\n",
        "desired).\n",
        "\n",
        "Operation parameters have the upper hand in the cases where both values and\n",
        "operations are passed, values will be ignored in this case.\n",
        "\n",
        "Consult the full class documentation if you still need to know more."
      ]
    },
    {
      "cell_type": "code",
      "execution_count": null,
      "metadata": {
        "id": "B-19ZTfx4uh5"
      },
      "outputs": [],
      "source": [
        "media_scaler = preprocessing.CustomScaler(divide_operation=jnp.mean)\n",
        "extra_features_scaler = preprocessing.CustomScaler(divide_operation=jnp.mean)\n",
        "target_scaler = preprocessing.CustomScaler(divide_operation=jnp.mean)\n",
        "cost_scaler = preprocessing.CustomScaler(divide_operation=jnp.mean)\n",
        "\n",
        "media_data_train = media_scaler.fit_transform(media_data_train)\n",
        "extra_features_train = extra_features_scaler.fit_transform(extra_features_train)\n",
        "target_train = target_scaler.fit_transform(target_train)\n",
        "costs = cost_scaler.fit_transform(costs)"
      ]
    },
    {
      "cell_type": "markdown",
      "metadata": {
        "id": "eiJBiIjVJ4h9"
      },
      "source": [
        "### Training the model"
      ]
    },
    {
      "cell_type": "markdown",
      "metadata": {
        "id": "RNiMpZSjJ8KF"
      },
      "source": [
        "The currently available models are the following: \n",
        "- hill_adstock \n",
        "- adstock \n",
        "- carryover"
      ]
    },
    {
      "cell_type": "code",
      "execution_count": null,
      "metadata": {
        "id": "nTmDycd3J-Iw"
      },
      "outputs": [],
      "source": [
        "mmm = lightweight_mmm.LightweightMMM(model_name=\"carryover\")"
      ]
    },
    {
      "cell_type": "markdown",
      "metadata": {
        "id": "S2XCraqXKA7B"
      },
      "source": [
        "Training the model will require the following mandatory parameters: \n",
        "- media\n",
        "- total_costs (one value per channel) \n",
        "- target\n",
        "\n",
        "We can optionally also pass the following: \n",
        "- extra_features: Other variables to add to the model. \n",
        "- degrees_seasonality: Number of degrees to use for seasonality. Default is 3. \n",
        "- seasonality_frequency: Frequency of the time period used. Default is 52 as in 52 weeks per year. \n",
        "- media_names: Names of the media channels passed. \n",
        "- number_warmup: Number of warm up samples. Default is 1000. \n",
        "- number_samples: Number of samples during sampling. Default is 1000. \n",
        "- number_chains: Number of chains to sample. Default is 2."
      ]
    },
    {
      "cell_type": "code",
      "execution_count": null,
      "metadata": {
        "id": "aza-wH0N2d52"
      },
      "outputs": [],
      "source": [
        "number_warmup=2000\n",
        "number_samples=2000"
      ]
    },
    {
      "cell_type": "code",
      "execution_count": null,
      "metadata": {
        "colab": {
          "height": 81,
          "referenced_widgets": [
            "227813952a364e37b9f3d363b40ebbaa",
            "a051fae4a03943f4ad61c195ba10f0f1",
            "a1f4f63868894211b97e746d4a771606",
            "690c54eea79f48f6a4fb1ebd1c48f437",
            "911e538ed82b4b41a91684cabf989052",
            "e9f519d7bcc74bb0bae53f71f95c6eec",
            "5548e7f7950b40189c23fe13fac2d328",
            "77bec86b19044773836f4396ba9fde44",
            "5f9cd3b93a074c66bafbc68d44c9ea47",
            "d08f34adda8d4e9cb0ce8c17e643704f",
            "0193480d34174a3785f95f2ff8ee0c00",
            "74f52ff6812f42ab910d1fc9cb5e09d6",
            "5f3e6a2022ad4398b87e2922dfa92c7c",
            "30c3b50cef4045648ed278832ce975ea",
            "fc3aed6265da4c73a07eb0ecfdb3ab13",
            "01ba97ba2cec45cf88bc6cf342eda66c",
            "80d3186fba75443d90152680bfb290d9",
            "66f1b4e8de6a4bbfa92fcd01d4756d77",
            "b1fc8d19768b4280a7cd0a7875293ef5",
            "6189277ffccf431889f75894e3e55815",
            "59faf0568e1a43fcb62df301e26b8760",
            "d275a1f7aab14793a0a97395bfdbf5a3"
          ]
        },
        "executionInfo": {
          "elapsed": 228489,
          "status": "ok",
          "timestamp": 1647943020947,
          "user": {
            "displayName": "",
            "photoUrl": "",
            "userId": ""
          },
          "user_tz": -60
        },
        "id": "FtVwGQITKDQp",
        "outputId": "39d221bd-6fee-4aeb-f880-f48aabfe5384"
      },
      "outputs": [
        {
          "data": {
            "application/vnd.jupyter.widget-view+json": {
              "model_id": "227813952a364e37b9f3d363b40ebbaa",
              "version_major": 2,
              "version_minor": 0
            },
            "text/plain": [
              "  0%|          | 0/4000 [00:00\u003c?, ?it/s]"
            ]
          },
          "metadata": {},
          "output_type": "display_data"
        },
        {
          "data": {
            "application/vnd.jupyter.widget-view+json": {
              "model_id": "74f52ff6812f42ab910d1fc9cb5e09d6",
              "version_major": 2,
              "version_minor": 0
            },
            "text/plain": [
              "  0%|          | 0/4000 [00:00\u003c?, ?it/s]"
            ]
          },
          "metadata": {},
          "output_type": "display_data"
        }
      ],
      "source": [
        "# For replicability in terms of random number generation in sampling\n",
        "# reuse the same seed for different trainings.\n",
        "mmm.fit(\n",
        "    media=media_data_train,\n",
        "    total_costs=costs,\n",
        "    target=target_train,\n",
        "    extra_features=extra_features_train,\n",
        "    number_warmup=number_warmup,\n",
        "    number_samples=number_samples,\n",
        "    number_chains=N_CHAINS,\n",
        "    seed=SEED)"
      ]
    },
    {
      "cell_type": "markdown",
      "metadata": {
        "id": "Qwwi7E61KKdL"
      },
      "source": [
        "You can check the summary of your trace by printing a summary:"
      ]
    },
    {
      "cell_type": "code",
      "execution_count": null,
      "metadata": {
        "executionInfo": {
          "elapsed": 79,
          "status": "ok",
          "timestamp": 1647943021151,
          "user": {
            "displayName": "",
            "photoUrl": "",
            "userId": ""
          },
          "user_tz": -60
        },
        "id": "sJUiM-1vKMt_",
        "outputId": "786add93-a97d-4188-a88f-f5908fe2cc37"
      },
      "outputs": [
        {
          "name": "stdout",
          "output_type": "stream",
          "text": [
            "\n",
            "                                 mean       std    median      5.0%     95.0%     n_eff     r_hat\n",
            "ad_effect_retention_rate[0]      0.33      0.19      0.31      0.01      0.60    521.91      1.00\n",
            "ad_effect_retention_rate[1]      0.45      0.30      0.42      0.00      0.89    920.59      1.00\n",
            "ad_effect_retention_rate[2]      0.34      0.23      0.31      0.01      0.67    694.91      1.00\n",
            "     beta_extra_features[0]     -0.04      0.01     -0.04     -0.07     -0.02    953.62      1.00\n",
            "            beta_media[0,0]      0.13      0.05      0.13      0.04      0.21    371.65      1.00\n",
            "            beta_media[1,0]      0.02      0.02      0.01      0.00      0.04   1200.67      1.00\n",
            "            beta_media[2,0]      0.08      0.05      0.08      0.00      0.14    667.91      1.00\n",
            "              beta_trend[0]     -0.00      0.00     -0.00     -0.00      0.00    891.07      1.00\n",
            "              expo_trend[0]      0.14      0.15      0.09      0.00      0.34    922.76      1.00\n",
            "                exponent[0]      0.91      0.08      0.94      0.80      1.00   1589.98      1.00\n",
            "                exponent[1]      0.90      0.09      0.93      0.77      1.00   1672.70      1.00\n",
            "                exponent[2]      0.91      0.09      0.93      0.79      1.00   1558.65      1.00\n",
            "     gamma_seasonality[0,0]     -0.01      1.01     -0.02     -1.67      1.67    918.63      1.00\n",
            "     gamma_seasonality[0,1]      0.17      0.86      0.17     -1.18      1.61    469.20      1.01\n",
            "     gamma_seasonality[1,0]     -0.02      0.00     -0.02     -0.02     -0.01   1296.50      1.00\n",
            "     gamma_seasonality[1,1]      0.00      0.00      0.00     -0.01      0.01   1044.35      1.00\n",
            "          geo_beta_media[0]      0.19      0.22      0.13      0.02      0.35    689.15      1.01\n",
            "               intercept[0]      0.67      0.86      0.67     -0.70      2.10    462.47      1.01\n",
            "       peak_effect_delay[0]      0.38      0.33      0.33      0.00      0.67    310.95      1.01\n",
            "       peak_effect_delay[1]      1.23      1.23      0.78      0.00      3.16   1110.44      1.00\n",
            "       peak_effect_delay[2]      0.45      0.61      0.29      0.00      0.95    580.68      1.00\n",
            "                   sigma[0]      0.03      0.00      0.03      0.03      0.03    812.44      1.00\n",
            "\n",
            "Number of divergences: 0\n"
          ]
        }
      ],
      "source": [
        "mmm.print_summary()"
      ]
    },
    {
      "cell_type": "markdown",
      "metadata": {
        "id": "7npbmDKfKNMX"
      },
      "source": [
        "We can visualise the posterior distributions of the media effects:"
      ]
    },
    {
      "cell_type": "code",
      "execution_count": null,
      "metadata": {
        "colab": {
          "height": 730
        },
        "executionInfo": {
          "elapsed": 505,
          "status": "ok",
          "timestamp": 1647943187539,
          "user": {
            "displayName": "",
            "photoUrl": "",
            "userId": ""
          },
          "user_tz": -60
        },
        "id": "BpqYqFNqKNTc",
        "outputId": "1f27c97c-6985-48f4-d3b5-e9f7f6fa1f1b"
      },
      "outputs": [
        {
          "data": {
            "image/png": "[encoded data removed]",
            "text/plain": [
              "\u003cFigure size 1000x1000 with 3 Axes\u003e"
            ]
          },
          "execution_count": 28,
          "metadata": {},
          "output_type": "execute_result"
        }
      ],
      "source": [
        "plot.plot_media_channel_posteriors(media_mix_model=mmm)"
      ]
    },
    {
      "cell_type": "markdown",
      "metadata": {
        "id": "AwgyS0W-KNbx"
      },
      "source": [
        "One can also check your model's fit to the training data."
      ]
    },
    {
      "cell_type": "code",
      "execution_count": null,
      "metadata": {
        "colab": {
          "height": 311
        },
        "executionInfo": {
          "elapsed": 2153,
          "status": "ok",
          "timestamp": 1647943026306,
          "user": {
            "displayName": "",
            "photoUrl": "",
            "userId": ""
          },
          "user_tz": -60
        },
        "id": "tw-TF20IKNi5",
        "outputId": "72c67350-8a6e-484d-dbaa-d76e49162489"
      },
      "outputs": [
        {
          "data": {
            "image/png": "[encoded data removed]",
            "text/plain": [
              "\u003cFigure size 600x400 with 1 Axes\u003e"
            ]
          },
          "execution_count": 13,
          "metadata": {},
          "output_type": "execute_result"
        }
      ],
      "source": [
        "# Here is another example where we can pass the target scaler if you want the plot to be in the \"not scaled scale\"\n",
        "plot.plot_model_fit(mmm, target_scaler=target_scaler)"
      ]
    },
    {
      "cell_type": "markdown",
      "metadata": {
        "id": "4v50_s1sKNrN"
      },
      "source": [
        "If one wants to run predictions on unseen data they can rely on the `predict`\n",
        "method:"
      ]
    },
    {
      "cell_type": "code",
      "execution_count": null,
      "metadata": {
        "executionInfo": {
          "elapsed": 2936,
          "status": "ok",
          "timestamp": 1647943029373,
          "user": {
            "displayName": "",
            "photoUrl": "",
            "userId": ""
          },
          "user_tz": -60
        },
        "id": "yQuUUolAKN0W",
        "outputId": "83f092e4-777d-49a9-eb37-b390c1a08d74"
      },
      "outputs": [
        {
          "data": {
            "text/plain": [
              "(4000, 13)"
            ]
          },
          "execution_count": 14,
          "metadata": {},
          "output_type": "execute_result"
        }
      ],
      "source": [
        "# We have to scale the test media data if we have not done so before.\n",
        "new_predictions = mmm.predict(media=media_scaler.transform(media_data_test),\n",
        "                              extra_features=extra_features_scaler.transform(extra_features_test),\n",
        "                              seed=SEED)\n",
        "new_predictions.shape"
      ]
    },
    {
      "cell_type": "code",
      "execution_count": null,
      "metadata": {
        "colab": {
          "height": 311
        },
        "executionInfo": {
          "elapsed": 725,
          "status": "ok",
          "timestamp": 1647943032086,
          "user": {
            "displayName": "",
            "photoUrl": "",
            "userId": ""
          },
          "user_tz": -60
        },
        "id": "e0a9JyiMKN8q",
        "outputId": "04452b76-dbb2-402b-a575-f559099160df"
      },
      "outputs": [
        {
          "data": {
            "image/png": "[encoded data removed]",
            "text/plain": [
              "\u003cFigure size 600x400 with 1 Axes\u003e"
            ]
          },
          "execution_count": 15,
          "metadata": {},
          "output_type": "execute_result"
        }
      ],
      "source": [
        "plot.plot_out_of_sample_model_fit(out_of_sample_predictions=new_predictions,\n",
        "                                 out_of_sample_target=target_scaler.transform(target[split_point:]))"
      ]
    },
    {
      "cell_type": "markdown",
      "metadata": {
        "id": "MDMW2Pe-KOEm"
      },
      "source": [
        "### Media insights"
      ]
    },
    {
      "cell_type": "code",
      "execution_count": null,
      "metadata": {
        "id": "qQUnoKKQKONT"
      },
      "outputs": [],
      "source": [
        "media_effect, roi_hat = mmm.get_posterior_metrics(target_scaler=target_scaler, cost_scaler=cost_scaler)"
      ]
    },
    {
      "cell_type": "markdown",
      "metadata": {
        "id": "szhjLnpHKOWc"
      },
      "source": [
        "We can quickly visualise the estimated media effects with their respective\n",
        "credibility intervals"
      ]
    },
    {
      "cell_type": "code",
      "execution_count": null,
      "metadata": {
        "colab": {
          "height": 296
        },
        "executionInfo": {
          "elapsed": 246,
          "status": "ok",
          "timestamp": 1647943032700,
          "user": {
            "displayName": "",
            "photoUrl": "",
            "userId": ""
          },
          "user_tz": -60
        },
        "id": "Hi3nJDE8KOfk",
        "outputId": "f3f40f7d-88bf-4138-bcec-3096bb146496"
      },
      "outputs": [
        {
          "data": {
            "image/png": "[encoded data removed]",
            "text/plain": [
              "\u003cFigure size 600x400 with 1 Axes\u003e"
            ]
          },
          "execution_count": 17,
          "metadata": {},
          "output_type": "execute_result"
        }
      ],
      "source": [
        "plot.plot_bars_media_metrics(metric=media_effect, metric_name=\"Media Effect\")"
      ]
    },
    {
      "cell_type": "code",
      "execution_count": null,
      "metadata": {
        "colab": {
          "height": 296
        },
        "executionInfo": {
          "elapsed": 199,
          "status": "ok",
          "timestamp": 1647943033017,
          "user": {
            "displayName": "",
            "photoUrl": "",
            "userId": ""
          },
          "user_tz": -60
        },
        "id": "oC82BdUJKOoT",
        "outputId": "26f48c09-58af-4c51-f76f-1272558dbbe4"
      },
      "outputs": [
        {
          "data": {
            "image/png": "[encoded data removed]",
            "text/plain": [
              "\u003cFigure size 600x400 with 1 Axes\u003e"
            ]
          },
          "execution_count": 18,
          "metadata": {},
          "output_type": "execute_result"
        }
      ],
      "source": [
        "plot.plot_bars_media_metrics(metric=roi_hat, metric_name=\"ROI hat\")"
      ]
    },
    {
      "cell_type": "markdown",
      "metadata": {
        "id": "TR_m4DvmKOx0"
      },
      "source": [
        "Another vital question we can solve with MMMs is how each media channel behaves\n",
        "individually as we invest more in it.\n",
        "\n",
        "For that we can plot the curve response of all media channels with the following\n",
        "function:"
      ]
    },
    {
      "cell_type": "code",
      "execution_count": null,
      "metadata": {
        "colab": {
          "height": 1000
        },
        "executionInfo": {
          "elapsed": 7512,
          "status": "ok",
          "timestamp": 1647943040651,
          "user": {
            "displayName": "",
            "photoUrl": "",
            "userId": ""
          },
          "user_tz": -60
        },
        "id": "w6DfZdyUKO6k",
        "outputId": "558501a2-6628-4feb-ec9b-74bf62c7f31c"
      },
      "outputs": [
        {
          "data": {
            "image/png": "[encoded data removed]",
            "text/plain": [
              "\u003cFigure size 1000x1400 with 4 Axes\u003e"
            ]
          },
          "execution_count": 19,
          "metadata": {},
          "output_type": "execute_result"
        }
      ],
      "source": [
        "plot.plot_response_curves(\n",
        "    media_mix_model=mmm, target_scaler=target_scaler, seed=SEED)"
      ]
    },
    {
      "cell_type": "markdown",
      "metadata": {
        "id": "qNEQkwvZKPDR"
      },
      "source": [
        "### Optimization"
      ]
    },
    {
      "cell_type": "markdown",
      "metadata": {
        "id": "0IslzAcNKPLO"
      },
      "source": [
        "The optimization is meant to solve the budget allocation questions for you.\n",
        "First you need to provide for how long you want to optimize your budget (eg. 15\n",
        "weeks in this case)."
      ]
    },
    {
      "cell_type": "markdown",
      "metadata": {
        "id": "ULQZGNMlKPT6"
      },
      "source": [
        "The optimization values will be bounded by +- 20% of the max and min historic\n",
        "values used for training. Which means the optimization won't recommend to\n",
        "completely change your strategy but how to make some budget re-allocation.\n",
        "\n",
        "You can change that percentage with the following parameters: -\n",
        "bounds_lower_pct - bounds_upper_pct\n",
        "\n",
        "Which can hold 1 value for all channels or 1 value per channel."
      ]
    },
    {
      "cell_type": "markdown",
      "metadata": {
        "id": "xDw5WtooKPde"
      },
      "source": [
        "Prices are the average price you would expect for the media units of each\n",
        "channel. If your data is already a money unit (eg. $) your prices should be an\n",
        "array of 1s."
      ]
    },
    {
      "cell_type": "code",
      "execution_count": null,
      "metadata": {
        "id": "t3TaoXYjKPmr"
      },
      "outputs": [],
      "source": [
        "prices = jnp.ones(mmm.n_media_channels)"
      ]
    },
    {
      "cell_type": "markdown",
      "metadata": {
        "id": "yF6JjbqPKP2R"
      },
      "source": [
        "The budget is how much one would like to allocate throughtout the total of\n",
        "`n_time_periods`. Make sure this amount is inline with the historic spend or\n",
        "otherwise some conditions/bounds in the optimization might not be met."
      ]
    },
    {
      "cell_type": "code",
      "execution_count": null,
      "metadata": {
        "id": "ReGi5AGTL86q"
      },
      "outputs": [],
      "source": [
        "n_time_periods = 10\n",
        "budget = jnp.sum(jnp.dot(prices, media_data.mean(axis=0)))* n_time_periods"
      ]
    },
    {
      "cell_type": "code",
      "execution_count": null,
      "metadata": {
        "executionInfo": {
          "elapsed": 29402,
          "status": "ok",
          "timestamp": 1647943070534,
          "user": {
            "displayName": "",
            "photoUrl": "",
            "userId": ""
          },
          "user_tz": -60
        },
        "id": "qtt9L4aPL-cs",
        "outputId": "0445ff91-923c-449a-f27f-16a592d1169c"
      },
      "outputs": [
        {
          "name": "stdout",
          "output_type": "stream",
          "text": [
            "Optimization terminated successfully.    (Exit mode 0)\n",
            "            Current function value: -712.181996671854\n",
            "            Iterations: 11\n",
            "            Function evaluations: 55\n",
            "            Gradient evaluations: 11\n"
          ]
        }
      ],
      "source": [
        "# Run optimization with the parameters of choice.\n",
        "solution, kpi_without_optim, previous_budget_allocation = optimize_media.find_optimal_budgets(\n",
        "    n_time_periods=n_time_periods,\n",
        "    media_mix_model=mmm,\n",
        "    extra_features=extra_features_scaler.transform(extra_features_test)[:n_time_periods],\n",
        "    budget=budget,\n",
        "    prices=prices,\n",
        "    media_scaler=media_scaler,\n",
        "    target_scaler=target_scaler,\n",
        "    seed=SEED)"
      ]
    },
    {
      "cell_type": "markdown",
      "metadata": {
        "id": "R1vZcsNYjNyA"
      },
      "source": [
        "If your media data is not in money unit (eg. impressions, clicks, GRPs, etc.), you would need to store the cost per values (eg. CPC) in the prices array and multiply it by solution.x to get the recommended budget allocation.\n",
        "\n"
      ]
    },
    {
      "cell_type": "code",
      "execution_count": null,
      "metadata": {
        "executionInfo": {
          "elapsed": 55,
          "status": "ok",
          "timestamp": 1647943070711,
          "user": {
            "displayName": "",
            "photoUrl": "",
            "userId": ""
          },
          "user_tz": -60
        },
        "id": "C2FIJu82MAk9",
        "outputId": "cc025b94-381f-447a-99cf-7cd746241a44"
      },
      "outputs": [
        {
          "data": {
            "text/plain": [
              "array([297.28488159, 125.17815399, 176.86386871])"
            ]
          },
          "execution_count": 23,
          "metadata": {},
          "output_type": "execute_result"
        }
      ],
      "source": [
        "# Obtain the optimal weekly allocation.\n",
        "optimal_buget_allocation = prices * solution.x\n",
        "optimal_buget_allocation"
      ]
    },
    {
      "cell_type": "code",
      "execution_count": null,
      "metadata": {
        "executionInfo": {
          "elapsed": 2,
          "status": "ok",
          "timestamp": 1647943070815,
          "user": {
            "displayName": "",
            "photoUrl": "",
            "userId": ""
          },
          "user_tz": -60
        },
        "id": "XS1rHOfaMCBt",
        "outputId": "17d9d0ef-1b19-4fc0-e66e-01a31ff78996"
      },
      "outputs": [
        {
          "data": {
            "text/plain": [
              "(DeviceArray(599.3269, dtype=float32), 599.326904296875)"
            ]
          },
          "execution_count": 24,
          "metadata": {},
          "output_type": "execute_result"
        }
      ],
      "source": [
        "# Both values should be very close in order to compare KPI\n",
        "budget, optimal_buget_allocation.sum()"
      ]
    },
    {
      "cell_type": "markdown",
      "metadata": {
        "id": "LvMc28XKMEt_"
      },
      "source": [
        "We can double check the budget constraint was met:"
      ]
    },
    {
      "cell_type": "code",
      "execution_count": null,
      "metadata": {
        "executionInfo": {
          "elapsed": 54,
          "status": "ok",
          "timestamp": 1647943070958,
          "user": {
            "displayName": "",
            "photoUrl": "",
            "userId": ""
          },
          "user_tz": -60
        },
        "id": "ffZl2W-pMFrD",
        "outputId": "46da4793-3888-486f-ca38-ff905e3e2be1"
      },
      "outputs": [
        {
          "data": {
            "text/plain": [
              "(DeviceArray(599.3269, dtype=float32), DeviceArray(599.3269, dtype=float32))"
            ]
          },
          "execution_count": 25,
          "metadata": {},
          "output_type": "execute_result"
        }
      ],
      "source": [
        "# Both numbers should be almost equal\n",
        "budget, jnp.sum(solution.x * prices)"
      ]
    },
    {
      "cell_type": "markdown",
      "metadata": {
        "id": "aK21EDOyzDC3"
      },
      "source": [
        "## We can plot the following:\n",
        "1. Pre post optimization budget allocation comparison for each channel\n",
        "2. Pre post optimization predicted target variable comparison"
      ]
    },
    {
      "cell_type": "code",
      "execution_count": null,
      "metadata": {
        "id": "0jRI8ynqzFip"
      },
      "outputs": [],
      "source": [
        "# Plot out pre post optimization budget allocation and predicted target variable comparison.\n",
        "plot.plot_pre_post_budget_allocation_comparison(media_mix_model=mmm, kpi_with_optim=solution['fun'], kpi_without_optim=kpi_without_optim,\n",
        "                                                optimal_buget_allocation=optimal_buget_allocation, previous_budget_allocation=previous_budget_allocation)"
      ]
    },
    {
      "cell_type": "markdown",
      "metadata": {
        "id": "o3UbFu9VSRq9"
      },
      "source": [
        "## Saving the model to disk"
      ]
    },
    {
      "cell_type": "code",
      "execution_count": null,
      "metadata": {
        "id": "g5SxNNBRPs6n"
      },
      "outputs": [],
      "source": [
        "# We can use the utilities for saving models to disk.\n",
        "file_path = \"media_mix_model.pkl\"\n",
        "utils.save_model(media_mix_model=mmm, file_path=file_path)"
      ]
    },
    {
      "cell_type": "code",
      "execution_count": null,
      "metadata": {
        "executionInfo": {
          "elapsed": 58,
          "status": "ok",
          "timestamp": 1647943071296,
          "user": {
            "displayName": "",
            "photoUrl": "",
            "userId": ""
          },
          "user_tz": -60
        },
        "id": "74Fx-1N4HQsJ",
        "outputId": "4d21cf38-9f6e-4b5f-dc6e-822c4a34061b"
      },
      "outputs": [
        {
          "data": {
            "text/plain": [
              "(4000, 3, 1)"
            ]
          },
          "execution_count": 27,
          "metadata": {},
          "output_type": "execute_result"
        }
      ],
      "source": [
        "# Once saved one can load the models.\n",
        "loaded_mmm = utils.load_model(file_path=file_path)\n",
        "loaded_mmm.trace[\"beta_media\"].shape # Example of accessing any of the model values."
      ]
    }
  ],
  "metadata": {
    "colab": {
      "collapsed_sections": [],
      "last_runtime": {
        "build_target": "//corp/gtech/ads/infrastructure/colab_utils/ds_runtime:ds_colab",
        "kind": "private"
      },
      "name": "simple_end_to_end_demo.ipynb",
      "provenance": [
        {
          "file_id": "/piper/depot/google3/third_party/professional_services/solutions/lightweight_mmm/examples/simple_end_to_end_demo.ipynb",
          "timestamp": 1651870257220
        },
        {
          "file_id": "1pa-fx5Uxyj9IiEM02BmGZD3OkTAu7RPw",
          "timestamp": 1643805668822
        }
      ]
    },
    "kernelspec": {
      "display_name": "Python 3",
      "name": "python3"
    },
    "language_info": {
      "name": "python"
    },
    "widgets": {
      "application/vnd.jupyter.widget-state+json": {
        "0193480d34174a3785f95f2ff8ee0c00": {
          "model_module": "@jupyter-widgets/controls",
          "model_module_version": "1.5.0",
          "model_name": "DescriptionStyleModel",
          "state": {
            "_model_module": "@jupyter-widgets/controls",
            "_model_module_version": "1.5.0",
            "_model_name": "DescriptionStyleModel",
            "_view_count": null,
            "_view_module": "@jupyter-widgets/base",
            "_view_module_version": "1.2.0",
            "_view_name": "StyleView",
            "description_width": ""
          }
        },
        "01ba97ba2cec45cf88bc6cf342eda66c": {
          "model_module": "@jupyter-widgets/base",
          "model_module_version": "1.2.0",
          "model_name": "LayoutModel",
          "state": {
            "_model_module": "@jupyter-widgets/base",
            "_model_module_version": "1.2.0",
            "_model_name": "LayoutModel",
            "_view_count": null,
            "_view_module": "@jupyter-widgets/base",
            "_view_module_version": "1.2.0",
            "_view_name": "LayoutView",
            "align_content": null,
            "align_items": null,
            "align_self": null,
            "border": null,
            "bottom": null,
            "display": null,
            "flex": null,
            "flex_flow": null,
            "grid_area": null,
            "grid_auto_columns": null,
            "grid_auto_flow": null,
            "grid_auto_rows": null,
            "grid_column": null,
            "grid_gap": null,
            "grid_row": null,
            "grid_template_areas": null,
            "grid_template_columns": null,
            "grid_template_rows": null,
            "height": null,
            "justify_content": null,
            "justify_items": null,
            "left": null,
            "margin": null,
            "max_height": null,
            "max_width": null,
            "min_height": null,
            "min_width": null,
            "object_fit": null,
            "object_position": null,
            "order": null,
            "overflow": null,
            "overflow_x": null,
            "overflow_y": null,
            "padding": null,
            "right": null,
            "top": null,
            "visibility": null,
            "width": null
          }
        },
        "227813952a364e37b9f3d363b40ebbaa": {
          "model_module": "@jupyter-widgets/controls",
          "model_module_version": "1.5.0",
          "model_name": "HBoxModel",
          "state": {
            "_dom_classes": [],
            "_model_module": "@jupyter-widgets/controls",
            "_model_module_version": "1.5.0",
            "_model_name": "HBoxModel",
            "_view_count": null,
            "_view_module": "@jupyter-widgets/controls",
            "_view_module_version": "1.5.0",
            "_view_name": "HBoxView",
            "box_style": "",
            "children": [
              "IPY_MODEL_a051fae4a03943f4ad61c195ba10f0f1",
              "IPY_MODEL_a1f4f63868894211b97e746d4a771606",
              "IPY_MODEL_690c54eea79f48f6a4fb1ebd1c48f437"
            ],
            "layout": "IPY_MODEL_911e538ed82b4b41a91684cabf989052"
          }
        },
        "30c3b50cef4045648ed278832ce975ea": {
          "model_module": "@jupyter-widgets/controls",
          "model_module_version": "1.5.0",
          "model_name": "FloatProgressModel",
          "state": {
            "_dom_classes": [],
            "_model_module": "@jupyter-widgets/controls",
            "_model_module_version": "1.5.0",
            "_model_name": "FloatProgressModel",
            "_view_count": null,
            "_view_module": "@jupyter-widgets/controls",
            "_view_module_version": "1.5.0",
            "_view_name": "ProgressView",
            "bar_style": "success",
            "description": "",
            "description_tooltip": null,
            "layout": "IPY_MODEL_b1fc8d19768b4280a7cd0a7875293ef5",
            "max": 4000,
            "min": 0,
            "orientation": "horizontal",
            "style": "IPY_MODEL_6189277ffccf431889f75894e3e55815",
            "value": 4000
          }
        },
        "5548e7f7950b40189c23fe13fac2d328": {
          "model_module": "@jupyter-widgets/controls",
          "model_module_version": "1.5.0",
          "model_name": "DescriptionStyleModel",
          "state": {
            "_model_module": "@jupyter-widgets/controls",
            "_model_module_version": "1.5.0",
            "_model_name": "DescriptionStyleModel",
            "_view_count": null,
            "_view_module": "@jupyter-widgets/base",
            "_view_module_version": "1.2.0",
            "_view_name": "StyleView",
            "description_width": ""
          }
        },
        "59faf0568e1a43fcb62df301e26b8760": {
          "model_module": "@jupyter-widgets/base",
          "model_module_version": "1.2.0",
          "model_name": "LayoutModel",
          "state": {
            "_model_module": "@jupyter-widgets/base",
            "_model_module_version": "1.2.0",
            "_model_name": "LayoutModel",
            "_view_count": null,
            "_view_module": "@jupyter-widgets/base",
            "_view_module_version": "1.2.0",
            "_view_name": "LayoutView",
            "align_content": null,
            "align_items": null,
            "align_self": null,
            "border": null,
            "bottom": null,
            "display": null,
            "flex": null,
            "flex_flow": null,
            "grid_area": null,
            "grid_auto_columns": null,
            "grid_auto_flow": null,
            "grid_auto_rows": null,
            "grid_column": null,
            "grid_gap": null,
            "grid_row": null,
            "grid_template_areas": null,
            "grid_template_columns": null,
            "grid_template_rows": null,
            "height": null,
            "justify_content": null,
            "justify_items": null,
            "left": null,
            "margin": null,
            "max_height": null,
            "max_width": null,
            "min_height": null,
            "min_width": null,
            "object_fit": null,
            "object_position": null,
            "order": null,
            "overflow": null,
            "overflow_x": null,
            "overflow_y": null,
            "padding": null,
            "right": null,
            "top": null,
            "visibility": null,
            "width": null
          }
        },
        "5f3e6a2022ad4398b87e2922dfa92c7c": {
          "model_module": "@jupyter-widgets/controls",
          "model_module_version": "1.5.0",
          "model_name": "HTMLModel",
          "state": {
            "_dom_classes": [],
            "_model_module": "@jupyter-widgets/controls",
            "_model_module_version": "1.5.0",
            "_model_name": "HTMLModel",
            "_view_count": null,
            "_view_module": "@jupyter-widgets/controls",
            "_view_module_version": "1.5.0",
            "_view_name": "HTMLView",
            "description": "",
            "description_tooltip": null,
            "layout": "IPY_MODEL_80d3186fba75443d90152680bfb290d9",
            "placeholder": "​",
            "style": "IPY_MODEL_66f1b4e8de6a4bbfa92fcd01d4756d77",
            "value": "Running chain 1: 100%"
          }
        },
        "5f9cd3b93a074c66bafbc68d44c9ea47": {
          "model_module": "@jupyter-widgets/controls",
          "model_module_version": "1.5.0",
          "model_name": "ProgressStyleModel",
          "state": {
            "_model_module": "@jupyter-widgets/controls",
            "_model_module_version": "1.5.0",
            "_model_name": "ProgressStyleModel",
            "_view_count": null,
            "_view_module": "@jupyter-widgets/base",
            "_view_module_version": "1.2.0",
            "_view_name": "StyleView",
            "bar_color": null,
            "description_width": ""
          }
        },
        "6189277ffccf431889f75894e3e55815": {
          "model_module": "@jupyter-widgets/controls",
          "model_module_version": "1.5.0",
          "model_name": "ProgressStyleModel",
          "state": {
            "_model_module": "@jupyter-widgets/controls",
            "_model_module_version": "1.5.0",
            "_model_name": "ProgressStyleModel",
            "_view_count": null,
            "_view_module": "@jupyter-widgets/base",
            "_view_module_version": "1.2.0",
            "_view_name": "StyleView",
            "bar_color": null,
            "description_width": ""
          }
        },
        "66f1b4e8de6a4bbfa92fcd01d4756d77": {
          "model_module": "@jupyter-widgets/controls",
          "model_module_version": "1.5.0",
          "model_name": "DescriptionStyleModel",
          "state": {
            "_model_module": "@jupyter-widgets/controls",
            "_model_module_version": "1.5.0",
            "_model_name": "DescriptionStyleModel",
            "_view_count": null,
            "_view_module": "@jupyter-widgets/base",
            "_view_module_version": "1.2.0",
            "_view_name": "StyleView",
            "description_width": ""
          }
        },
        "690c54eea79f48f6a4fb1ebd1c48f437": {
          "model_module": "@jupyter-widgets/controls",
          "model_module_version": "1.5.0",
          "model_name": "HTMLModel",
          "state": {
            "_dom_classes": [],
            "_model_module": "@jupyter-widgets/controls",
            "_model_module_version": "1.5.0",
            "_model_name": "HTMLModel",
            "_view_count": null,
            "_view_module": "@jupyter-widgets/controls",
            "_view_module_version": "1.5.0",
            "_view_name": "HTMLView",
            "description": "",
            "description_tooltip": null,
            "layout": "IPY_MODEL_d08f34adda8d4e9cb0ce8c17e643704f",
            "placeholder": "​",
            "style": "IPY_MODEL_0193480d34174a3785f95f2ff8ee0c00",
            "value": " 4000/4000 [03:46\u0026lt;00:00, 21.42it/s]"
          }
        },
        "74f52ff6812f42ab910d1fc9cb5e09d6": {
          "model_module": "@jupyter-widgets/controls",
          "model_module_version": "1.5.0",
          "model_name": "HBoxModel",
          "state": {
            "_dom_classes": [],
            "_model_module": "@jupyter-widgets/controls",
            "_model_module_version": "1.5.0",
            "_model_name": "HBoxModel",
            "_view_count": null,
            "_view_module": "@jupyter-widgets/controls",
            "_view_module_version": "1.5.0",
            "_view_name": "HBoxView",
            "box_style": "",
            "children": [
              "IPY_MODEL_5f3e6a2022ad4398b87e2922dfa92c7c",
              "IPY_MODEL_30c3b50cef4045648ed278832ce975ea",
              "IPY_MODEL_fc3aed6265da4c73a07eb0ecfdb3ab13"
            ],
            "layout": "IPY_MODEL_01ba97ba2cec45cf88bc6cf342eda66c"
          }
        },
        "77bec86b19044773836f4396ba9fde44": {
          "model_module": "@jupyter-widgets/base",
          "model_module_version": "1.2.0",
          "model_name": "LayoutModel",
          "state": {
            "_model_module": "@jupyter-widgets/base",
            "_model_module_version": "1.2.0",
            "_model_name": "LayoutModel",
            "_view_count": null,
            "_view_module": "@jupyter-widgets/base",
            "_view_module_version": "1.2.0",
            "_view_name": "LayoutView",
            "align_content": null,
            "align_items": null,
            "align_self": null,
            "border": null,
            "bottom": null,
            "display": null,
            "flex": null,
            "flex_flow": null,
            "grid_area": null,
            "grid_auto_columns": null,
            "grid_auto_flow": null,
            "grid_auto_rows": null,
            "grid_column": null,
            "grid_gap": null,
            "grid_row": null,
            "grid_template_areas": null,
            "grid_template_columns": null,
            "grid_template_rows": null,
            "height": null,
            "justify_content": null,
            "justify_items": null,
            "left": null,
            "margin": null,
            "max_height": null,
            "max_width": null,
            "min_height": null,
            "min_width": null,
            "object_fit": null,
            "object_position": null,
            "order": null,
            "overflow": null,
            "overflow_x": null,
            "overflow_y": null,
            "padding": null,
            "right": null,
            "top": null,
            "visibility": null,
            "width": null
          }
        },
        "80d3186fba75443d90152680bfb290d9": {
          "model_module": "@jupyter-widgets/base",
          "model_module_version": "1.2.0",
          "model_name": "LayoutModel",
          "state": {
            "_model_module": "@jupyter-widgets/base",
            "_model_module_version": "1.2.0",
            "_model_name": "LayoutModel",
            "_view_count": null,
            "_view_module": "@jupyter-widgets/base",
            "_view_module_version": "1.2.0",
            "_view_name": "LayoutView",
            "align_content": null,
            "align_items": null,
            "align_self": null,
            "border": null,
            "bottom": null,
            "display": null,
            "flex": null,
            "flex_flow": null,
            "grid_area": null,
            "grid_auto_columns": null,
            "grid_auto_flow": null,
            "grid_auto_rows": null,
            "grid_column": null,
            "grid_gap": null,
            "grid_row": null,
            "grid_template_areas": null,
            "grid_template_columns": null,
            "grid_template_rows": null,
            "height": null,
            "justify_content": null,
            "justify_items": null,
            "left": null,
            "margin": null,
            "max_height": null,
            "max_width": null,
            "min_height": null,
            "min_width": null,
            "object_fit": null,
            "object_position": null,
            "order": null,
            "overflow": null,
            "overflow_x": null,
            "overflow_y": null,
            "padding": null,
            "right": null,
            "top": null,
            "visibility": null,
            "width": null
          }
        },
        "911e538ed82b4b41a91684cabf989052": {
          "model_module": "@jupyter-widgets/base",
          "model_module_version": "1.2.0",
          "model_name": "LayoutModel",
          "state": {
            "_model_module": "@jupyter-widgets/base",
            "_model_module_version": "1.2.0",
            "_model_name": "LayoutModel",
            "_view_count": null,
            "_view_module": "@jupyter-widgets/base",
            "_view_module_version": "1.2.0",
            "_view_name": "LayoutView",
            "align_content": null,
            "align_items": null,
            "align_self": null,
            "border": null,
            "bottom": null,
            "display": null,
            "flex": null,
            "flex_flow": null,
            "grid_area": null,
            "grid_auto_columns": null,
            "grid_auto_flow": null,
            "grid_auto_rows": null,
            "grid_column": null,
            "grid_gap": null,
            "grid_row": null,
            "grid_template_areas": null,
            "grid_template_columns": null,
            "grid_template_rows": null,
            "height": null,
            "justify_content": null,
            "justify_items": null,
            "left": null,
            "margin": null,
            "max_height": null,
            "max_width": null,
            "min_height": null,
            "min_width": null,
            "object_fit": null,
            "object_position": null,
            "order": null,
            "overflow": null,
            "overflow_x": null,
            "overflow_y": null,
            "padding": null,
            "right": null,
            "top": null,
            "visibility": null,
            "width": null
          }
        },
        "a051fae4a03943f4ad61c195ba10f0f1": {
          "model_module": "@jupyter-widgets/controls",
          "model_module_version": "1.5.0",
          "model_name": "HTMLModel",
          "state": {
            "_dom_classes": [],
            "_model_module": "@jupyter-widgets/controls",
            "_model_module_version": "1.5.0",
            "_model_name": "HTMLModel",
            "_view_count": null,
            "_view_module": "@jupyter-widgets/controls",
            "_view_module_version": "1.5.0",
            "_view_name": "HTMLView",
            "description": "",
            "description_tooltip": null,
            "layout": "IPY_MODEL_e9f519d7bcc74bb0bae53f71f95c6eec",
            "placeholder": "​",
            "style": "IPY_MODEL_5548e7f7950b40189c23fe13fac2d328",
            "value": "Running chain 0: 100%"
          }
        },
        "a1f4f63868894211b97e746d4a771606": {
          "model_module": "@jupyter-widgets/controls",
          "model_module_version": "1.5.0",
          "model_name": "FloatProgressModel",
          "state": {
            "_dom_classes": [],
            "_model_module": "@jupyter-widgets/controls",
            "_model_module_version": "1.5.0",
            "_model_name": "FloatProgressModel",
            "_view_count": null,
            "_view_module": "@jupyter-widgets/controls",
            "_view_module_version": "1.5.0",
            "_view_name": "ProgressView",
            "bar_style": "success",
            "description": "",
            "description_tooltip": null,
            "layout": "IPY_MODEL_77bec86b19044773836f4396ba9fde44",
            "max": 4000,
            "min": 0,
            "orientation": "horizontal",
            "style": "IPY_MODEL_5f9cd3b93a074c66bafbc68d44c9ea47",
            "value": 4000
          }
        },
        "b1fc8d19768b4280a7cd0a7875293ef5": {
          "model_module": "@jupyter-widgets/base",
          "model_module_version": "1.2.0",
          "model_name": "LayoutModel",
          "state": {
            "_model_module": "@jupyter-widgets/base",
            "_model_module_version": "1.2.0",
            "_model_name": "LayoutModel",
            "_view_count": null,
            "_view_module": "@jupyter-widgets/base",
            "_view_module_version": "1.2.0",
            "_view_name": "LayoutView",
            "align_content": null,
            "align_items": null,
            "align_self": null,
            "border": null,
            "bottom": null,
            "display": null,
            "flex": null,
            "flex_flow": null,
            "grid_area": null,
            "grid_auto_columns": null,
            "grid_auto_flow": null,
            "grid_auto_rows": null,
            "grid_column": null,
            "grid_gap": null,
            "grid_row": null,
            "grid_template_areas": null,
            "grid_template_columns": null,
            "grid_template_rows": null,
            "height": null,
            "justify_content": null,
            "justify_items": null,
            "left": null,
            "margin": null,
            "max_height": null,
            "max_width": null,
            "min_height": null,
            "min_width": null,
            "object_fit": null,
            "object_position": null,
            "order": null,
            "overflow": null,
            "overflow_x": null,
            "overflow_y": null,
            "padding": null,
            "right": null,
            "top": null,
            "visibility": null,
            "width": null
          }
        },
        "d08f34adda8d4e9cb0ce8c17e643704f": {
          "model_module": "@jupyter-widgets/base",
          "model_module_version": "1.2.0",
          "model_name": "LayoutModel",
          "state": {
            "_model_module": "@jupyter-widgets/base",
            "_model_module_version": "1.2.0",
            "_model_name": "LayoutModel",
            "_view_count": null,
            "_view_module": "@jupyter-widgets/base",
            "_view_module_version": "1.2.0",
            "_view_name": "LayoutView",
            "align_content": null,
            "align_items": null,
            "align_self": null,
            "border": null,
            "bottom": null,
            "display": null,
            "flex": null,
            "flex_flow": null,
            "grid_area": null,
            "grid_auto_columns": null,
            "grid_auto_flow": null,
            "grid_auto_rows": null,
            "grid_column": null,
            "grid_gap": null,
            "grid_row": null,
            "grid_template_areas": null,
            "grid_template_columns": null,
            "grid_template_rows": null,
            "height": null,
            "justify_content": null,
            "justify_items": null,
            "left": null,
            "margin": null,
            "max_height": null,
            "max_width": null,
            "min_height": null,
            "min_width": null,
            "object_fit": null,
            "object_position": null,
            "order": null,
            "overflow": null,
            "overflow_x": null,
            "overflow_y": null,
            "padding": null,
            "right": null,
            "top": null,
            "visibility": null,
            "width": null
          }
        },
        "d275a1f7aab14793a0a97395bfdbf5a3": {
          "model_module": "@jupyter-widgets/controls",
          "model_module_version": "1.5.0",
          "model_name": "DescriptionStyleModel",
          "state": {
            "_model_module": "@jupyter-widgets/controls",
            "_model_module_version": "1.5.0",
            "_model_name": "DescriptionStyleModel",
            "_view_count": null,
            "_view_module": "@jupyter-widgets/base",
            "_view_module_version": "1.2.0",
            "_view_name": "StyleView",
            "description_width": ""
          }
        },
        "e9f519d7bcc74bb0bae53f71f95c6eec": {
          "model_module": "@jupyter-widgets/base",
          "model_module_version": "1.2.0",
          "model_name": "LayoutModel",
          "state": {
            "_model_module": "@jupyter-widgets/base",
            "_model_module_version": "1.2.0",
            "_model_name": "LayoutModel",
            "_view_count": null,
            "_view_module": "@jupyter-widgets/base",
            "_view_module_version": "1.2.0",
            "_view_name": "LayoutView",
            "align_content": null,
            "align_items": null,
            "align_self": null,
            "border": null,
            "bottom": null,
            "display": null,
            "flex": null,
            "flex_flow": null,
            "grid_area": null,
            "grid_auto_columns": null,
            "grid_auto_flow": null,
            "grid_auto_rows": null,
            "grid_column": null,
            "grid_gap": null,
            "grid_row": null,
            "grid_template_areas": null,
            "grid_template_columns": null,
            "grid_template_rows": null,
            "height": null,
            "justify_content": null,
            "justify_items": null,
            "left": null,
            "margin": null,
            "max_height": null,
            "max_width": null,
            "min_height": null,
            "min_width": null,
            "object_fit": null,
            "object_position": null,
            "order": null,
            "overflow": null,
            "overflow_x": null,
            "overflow_y": null,
            "padding": null,
            "right": null,
            "top": null,
            "visibility": null,
            "width": null
          }
        },
        "fc3aed6265da4c73a07eb0ecfdb3ab13": {
          "model_module": "@jupyter-widgets/controls",
          "model_module_version": "1.5.0",
          "model_name": "HTMLModel",
          "state": {
            "_dom_classes": [],
            "_model_module": "@jupyter-widgets/controls",
            "_model_module_version": "1.5.0",
            "_model_name": "HTMLModel",
            "_view_count": null,
            "_view_module": "@jupyter-widgets/controls",
            "_view_module_version": "1.5.0",
            "_view_name": "HTMLView",
            "description": "",
            "description_tooltip": null,
            "layout": "IPY_MODEL_59faf0568e1a43fcb62df301e26b8760",
            "placeholder": "​",
            "style": "IPY_MODEL_d275a1f7aab14793a0a97395bfdbf5a3",
            "value": " 4000/4000 [03:46\u0026lt;00:00, 21.30it/s]"
          }
        }
      }
    }
  },
  "nbformat": 4,
  "nbformat_minor": 0
}
