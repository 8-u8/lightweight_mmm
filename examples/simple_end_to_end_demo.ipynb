{
  "cells": [
    {
      "cell_type": "markdown",
      "metadata": {
        "id": "AEdi78qH1Jhq"
      },
      "source": [
        "# Simple End to End Demo"
      ]
    },
    {
      "cell_type": "markdown",
      "metadata": {
        "id": "Kz-eYQ7TKVG9"
      },
      "source": [
        "Welcome to the end to end demo of LightweigthMMM. This is a very simple demo in \n",
        "which we showcase the basic usage and functionalities of the library."
      ]
    },
    {
      "cell_type": "markdown",
      "metadata": {
        "id": "gmrJXoY2PlKI"
      },
      "source": [
        "Disclaimer: This notebooks skips all exploratory data analysis and preprocessing (besides scaling) and assumes the user will do or has done it prior to engaging this point of the demo.\n",
        "\n",
        "This notebook uses dummy data and therefore the numbers and results might not be representative of what one might get on a real dataset."
      ]
    },
    {
      "cell_type": "markdown",
      "metadata": {
        "id": "WmpDBp6dusp0"
      },
      "source": [
        "For running chains in parallel you can set the number of CPUs at the begining of the program like the following:\n",
        "`numpyro.set_host_device_count(n)`"
      ]
    },
    {
      "cell_type": "code",
      "execution_count": null,
      "metadata": {
        "id": "afF7ZlEz37eC"
      },
      "outputs": [],
      "source": [
        "# Import jax.numpy and any other library we might need.\n",
        "import jax.numpy as jnp\n",
        "import numpyro"
      ]
    },
    {
      "cell_type": "code",
      "execution_count": null,
      "metadata": {
        "id": "EmkFKiQjZ7kC"
      },
      "outputs": [],
      "source": [
        "# First would be to install lightweight_mmm\n",
        "!pip install --upgrade git+https://github.com/google/lightweight_mmm.git"
      ]
    },
    {
      "cell_type": "code",
      "execution_count": null,
      "metadata": {
        "id": "Ltk-rB9y-_fh"
      },
      "outputs": [],
      "source": [
        "# Import the relevant modules of the library\n",
        "from lightweight_mmm import lightweight_mmm\n",
        "from lightweight_mmm import optimize_media\n",
        "from lightweight_mmm import plot\n",
        "from lightweight_mmm import preprocessing\n",
        "from lightweight_mmm import utils"
      ]
    },
    {
      "cell_type": "markdown",
      "metadata": {
        "id": "lGa5iPF4zdOo"
      },
      "source": [
        "## Organising the data for modelling"
      ]
    },
    {
      "cell_type": "code",
      "execution_count": null,
      "metadata": {
        "id": "AF0gS72Hhwml"
      },
      "outputs": [],
      "source": [
        "SEED = 105\n",
        "N_CHAINS = 2\n",
        "numpyro.set_host_device_count(N_CHAINS)"
      ]
    },
    {
      "cell_type": "code",
      "execution_count": null,
      "metadata": {
        "id": "R6oDCH5w4M_y"
      },
      "outputs": [],
      "source": [
        "data_size = 140\n",
        "n_media_channels = 4\n",
        "n_extra_features = 1"
      ]
    },
    {
      "cell_type": "code",
      "execution_count": null,
      "metadata": {
        "id": "kOq-mfJO4QVP"
      },
      "outputs": [],
      "source": [
        "media_data, extra_features, target, costs = utils.simulate_dummy_data(\n",
        "    data_size=data_size,\n",
        "    n_media_channels=n_media_channels,\n",
        "    n_extra_features=n_extra_features)"
      ]
    },
    {
      "cell_type": "markdown",
      "metadata": {
        "id": "58yFB05A4e0j"
      },
      "source": [
        "We can then split the dataset into train and test. Lets leave only the last 10%\n",
        "of the rows for testing in this case."
      ]
    },
    {
      "cell_type": "code",
      "execution_count": null,
      "metadata": {
        "id": "xMMKo3fK4UN4"
      },
      "outputs": [],
      "source": [
        "# Split and scale data.\n",
        "split_point = data_size - data_size // 10\n",
        "# Media data\n",
        "media_data_train = media_data[:split_point, ...]\n",
        "media_data_test = media_data[split_point:, ...]\n",
        "# Extra features\n",
        "extra_features_train = extra_features[:split_point, ...]\n",
        "extra_features_test = extra_features[split_point:, ...]\n",
        "# Target\n",
        "target_train = target[:split_point]"
      ]
    },
    {
      "cell_type": "markdown",
      "metadata": {
        "id": "A0pZBcF14lPV"
      },
      "source": [
        "Scaling is essential for many modelling problems and this one is no exception.\n",
        "\n",
        "We provide the class `CustomScaler` which behaves accordingly with `sklearn`\n",
        "scalers.\n",
        "\n",
        "In most cases you will need 3 or 4 scalers. One scaler for the media data, one\n",
        "for the target and one for costs. Optionally if you are adding extra features\n",
        "those might need an extra scaler. **It is very important that you save and\n",
        "\"carry with you\" those scalers throughout your MMM journey as LighweightMMM will\n",
        "allow you to re-insert these scalers at different points to ensure everything is\n",
        "always in the correct scale and results. If some results don't make sense, it\n",
        "might be a scaling problem.**"
      ]
    },
    {
      "cell_type": "markdown",
      "metadata": {
        "id": "tGAjohQH4qCO"
      },
      "source": [
        "A few more details on CustomScaler usage:\n",
        "\n",
        "This scaler can be used in two fashions for both the multiplication and division\n",
        "operation. \n",
        "- By specifying a value to use for the scaling operation. \n",
        "- By specifying an operation used at column level to calculate the value for the\n",
        "actual scaling operation.\n",
        "\n",
        "Eg. if one wants to scale the dataset by multiply by 100 you can directly pass\n",
        "multiply_by=100. Value can also be an array with as many values as column has\n",
        "the data being scaled. But if you want to multiply by the mean value of each\n",
        "column, then you can pass multiply_operation=jnp.mean (or any other operation\n",
        "desired).\n",
        "\n",
        "Operation parameters have the upper hand in the cases where both values and\n",
        "operations are passed, values will be ignored in this case.\n",
        "\n",
        "Consult the full class documentation if you still need to know more."
      ]
    },
    {
      "cell_type": "code",
      "execution_count": null,
      "metadata": {
        "id": "B-19ZTfx4uh5"
      },
      "outputs": [],
      "source": [
        "media_scaler = preprocessing.CustomScaler(divide_operation=jnp.mean)\n",
        "extra_features_scaler = preprocessing.CustomScaler(divide_operation=jnp.mean)\n",
        "target_scaler = preprocessing.CustomScaler(divide_operation=jnp.mean)\n",
        "cost_scaler = preprocessing.CustomScaler(divide_operation=jnp.mean)\n",
        "\n",
        "media_data_train = media_scaler.fit_transform(media_data_train)\n",
        "extra_features_train = extra_features_scaler.fit_transform(extra_features_train)\n",
        "target_train = target_scaler.fit_transform(target_train)\n",
        "costs = cost_scaler.fit_transform(costs)"
      ]
    },
    {
      "cell_type": "markdown",
      "metadata": {
        "id": "eiJBiIjVJ4h9"
      },
      "source": [
        "### Training the model"
      ]
    },
    {
      "cell_type": "markdown",
      "metadata": {
        "id": "RNiMpZSjJ8KF"
      },
      "source": [
        "The currently available models are the following: \n",
        "- hill_adstock \n",
        "- adstock \n",
        "- carryover"
      ]
    },
    {
      "cell_type": "code",
      "execution_count": null,
      "metadata": {
        "id": "nTmDycd3J-Iw"
      },
      "outputs": [],
      "source": [
        "mmm = lightweight_mmm.LightweightMMM(model_name=\"adstock\")"
      ]
    },
    {
      "cell_type": "markdown",
      "metadata": {
        "id": "S2XCraqXKA7B"
      },
      "source": [
        "Training the model will require the following mandatory parameters: \n",
        "- media\n",
        "- total_costs (one value per channel) \n",
        "- target\n",
        "\n",
        "We can optionally also pass the following: \n",
        "- extra_features: Other variables to add to the model. \n",
        "- degrees_seasonality: Number of degrees to use for seasonality. Default is 3. \n",
        "- seasonality_frequency: Frequency of the time period used. Default is 52 as in 52 weeks per year. \n",
        "- media_names: Names of the media channels passed. \n",
        "- number_warmup: Number of warm up samples. Default is 1000. \n",
        "- number_samples: Number of samples during sampling. Default is 1000. \n",
        "- number_chains: Number of chains to sample. Default is 2."
      ]
    },
    {
      "cell_type": "code",
      "execution_count": null,
      "metadata": {
        "id": "aza-wH0N2d52"
      },
      "outputs": [],
      "source": [
        "number_warmup=3000\n",
        "number_samples=3000"
      ]
    },
    {
      "cell_type": "code",
      "execution_count": null,
      "metadata": {
        "colab": {
          "height": 81,
          "referenced_widgets": [
            "73d6af97375b474a83533c089fb52cd9",
            "c8d9c19f308b4676896e7f009535be12",
            "948eb9477dd0415388ea2c95c1258924",
            "763519d6d53743fa8aefe1cc5b144176",
            "217b9ec3c56d4b77b0e93133cb9f6a13",
            "9e2be3ade77e483b8fb39ee3a83b6117",
            "8a557461849d4d77b9d525c5d28830b5",
            "595552fc6192457cb05793cdd952c4a6",
            "9771d990588d4552ab043b222efe774a",
            "8b2c7ca5e37a4394b4348771840ed9f1",
            "2a9007f68c174a87aae40236dcfb4e03",
            "df0e7deb5e514f42a595525032af0881",
            "289a1071e37b415ebd18ad2682dfa1c7",
            "f8901368df23423fa2786938c7a65ac6",
            "777c35874763467b91595617e42319dc",
            "ecd29d27fdae473d9cacd35022b128dc",
            "315b3f4b6419432fa5d4480934a0e098",
            "59af20737f7e4262bd14d64674651e4e",
            "870dde5f9dda496d93d9bd5659059e48",
            "666f36f5bc8644e985452fa48b6dc5d1",
            "bf69ddc2259b4949b8365afb0e322bbd",
            "a7845da7e433494e93bb6714d8537ebe"
          ]
        },
        "executionInfo": {
          "elapsed": 358743,
          "status": "ok",
          "timestamp": 1645205613447,
          "user": {
            "displayName": "",
            "photoUrl": "",
            "userId": ""
          },
          "user_tz": -60
        },
        "id": "FtVwGQITKDQp",
        "outputId": "f3655a20-9df8-4cd2-8e63-6c21b6549cf8"
      },
      "outputs": [
        {
          "data": {
            "application/vnd.jupyter.widget-view+json": {
              "model_id": "73d6af97375b474a83533c089fb52cd9",
              "version_major": 2,
              "version_minor": 0
            },
            "text/plain": [
              "  0%|          | 0/6000 [00:00\u003c?, ?it/s]"
            ]
          },
          "metadata": {},
          "output_type": "display_data"
        },
        {
          "data": {
            "application/vnd.jupyter.widget-view+json": {
              "model_id": "df0e7deb5e514f42a595525032af0881",
              "version_major": 2,
              "version_minor": 0
            },
            "text/plain": [
              "  0%|          | 0/6000 [00:00\u003c?, ?it/s]"
            ]
          },
          "metadata": {},
          "output_type": "display_data"
        }
      ],
      "source": [
        "# For replicability in terms of random number generation in sampling\n",
        "# reuse the same seed for different trainings.\n",
        "mmm.fit(\n",
        "    media=media_data_train,\n",
        "    total_costs=costs,\n",
        "    target=target_train,\n",
        "    extra_features=extra_features_train,\n",
        "    number_warmup=number_warmup,\n",
        "    number_samples=number_samples,\n",
        "    number_chains=N_CHAINS,\n",
        "    seed=SEED)"
      ]
    },
    {
      "cell_type": "markdown",
      "metadata": {
        "id": "Qwwi7E61KKdL"
      },
      "source": [
        "You can check the summary of your trace by printing a summary:"
      ]
    },
    {
      "cell_type": "code",
      "execution_count": null,
      "metadata": {
        "executionInfo": {
          "elapsed": 348,
          "status": "ok",
          "timestamp": 1645205613930,
          "user": {
            "displayName": "",
            "photoUrl": "",
            "userId": ""
          },
          "user_tz": -60
        },
        "id": "sJUiM-1vKMt_",
        "outputId": "aec027b2-eb91-4454-8345-afa51c6d5c19"
      },
      "outputs": [
        {
          "name": "stdout",
          "output_type": "stream",
          "text": [
            "\n",
            "                            mean       std    median      5.0%     95.0%     n_eff     r_hat\n",
            "beta_extra_features[0]     -0.01      0.00     -0.01     -0.01     -0.00     57.18      1.05\n",
            "         beta_media[0]      0.83      0.86      0.36      0.01      1.98      1.13      2.95\n",
            "         beta_media[1]      0.08      0.04      0.08      0.02      0.14     15.86      1.02\n",
            "         beta_media[2]      0.60      0.63      0.19      0.06      1.49      1.66      1.58\n",
            "         beta_media[3]      0.04      0.03      0.03      0.00      0.08     25.05      1.03\n",
            "            beta_trend     -0.03      0.01     -0.03     -0.05     -0.01      2.88      1.26\n",
            "            expo_trend      0.06      0.04      0.05      0.01      0.11     33.83      1.00\n",
            "           exponent[0]      0.91      0.07      0.94      0.82      1.00     21.91      1.08\n",
            "           exponent[1]      0.90      0.10      0.93      0.78      1.00     18.64      1.08\n",
            "           exponent[2]      0.93      0.06      0.95      0.85      1.00     31.97      1.09\n",
            "           exponent[3]      0.84      0.11      0.86      0.68      0.99     33.43      1.02\n",
            "gamma_seasonality[0,0]      0.07      0.92      0.07     -1.31      1.74     28.86      1.08\n",
            "gamma_seasonality[0,1]      0.07      1.40     -0.15     -2.01      2.20      1.62      2.71\n",
            "gamma_seasonality[1,0]      0.00      0.00      0.00      0.00      0.00   1241.52      1.00\n",
            "gamma_seasonality[1,1]     -0.00      0.00     -0.00     -0.00     -0.00    910.15      1.00\n",
            "gamma_seasonality[2,0]     -0.00      0.00     -0.00     -0.00      0.00     57.63      1.04\n",
            "gamma_seasonality[2,1]     -0.00      0.00     -0.00     -0.00     -0.00    147.26      1.02\n",
            "             intercept      0.86      1.41      1.07     -1.26      2.99      1.60      2.72\n",
            "         lag_weight[0]      0.75      0.26      0.89      0.39      1.00      1.08      3.79\n",
            "         lag_weight[1]      0.73      0.23      0.84      0.43      0.97      1.10      3.13\n",
            "         lag_weight[2]      0.98      0.02      0.98      0.95      1.00      1.03      5.64\n",
            "         lag_weight[3]      0.62      0.18      0.63      0.35      0.98     67.54      1.02\n",
            "                 sigma      0.00      0.00      0.00      0.00      0.00      4.11      1.24\n",
            "\n",
            "Number of divergences: 0\n"
          ]
        }
      ],
      "source": [
        "mmm.print_summary()"
      ]
    },
    {
      "cell_type": "markdown",
      "metadata": {
        "id": "7npbmDKfKNMX"
      },
      "source": [
        "We can visualise the posterior distributions of the media effects:"
      ]
    },
    {
      "cell_type": "code",
      "execution_count": 33,
      "metadata": {
        "colab": {
          "height": 730
        },
        "executionInfo": {
          "elapsed": 1048,
          "status": "ok",
          "timestamp": 1645206735547,
          "user": {
            "displayName": "",
            "photoUrl": "",
            "userId": ""
          },
          "user_tz": -60
        },
        "id": "BpqYqFNqKNTc",
        "outputId": "ba718c4b-afe2-4b5f-f1cc-e74f8ddd5ab5"
      },
      "outputs": [
        {
          "data": {
            "image/png": "[encoded data removed]",
            "text/plain": [
              "\u003cFigure size 1000x1000 with 4 Axes\u003e"
            ]
          },
          "execution_count": 33,
          "metadata": {},
          "output_type": "execute_result"
        }
      ],
      "source": [
        "plot.plot_media_channel_posteriors(media_mix_model=mmm)"
      ]
    },
    {
      "cell_type": "markdown",
      "metadata": {
        "id": "AwgyS0W-KNbx"
      },
      "source": [
        "One can also check your model's fit to the training data."
      ]
    },
    {
      "cell_type": "code",
      "execution_count": null,
      "metadata": {
        "colab": {
          "height": 311
        },
        "executionInfo": {
          "elapsed": 3742,
          "status": "ok",
          "timestamp": 1645205621410,
          "user": {
            "displayName": "",
            "photoUrl": "",
            "userId": ""
          },
          "user_tz": -60
        },
        "id": "tw-TF20IKNi5",
        "outputId": "bfe53ce2-962a-40bf-8168-294d0691f597"
      },
      "outputs": [
        {
          "data": {
            "image/png": "[encoded data removed]",
            "text/plain": [
              "\u003cFigure size 600x400 with 1 Axes\u003e"
            ]
          },
          "execution_count": 12,
          "metadata": {},
          "output_type": "execute_result"
        }
      ],
      "source": [
        "# Here is another example where we can pass the target scaler if you want the plot to be in the \"not scaled scale\"\n",
        "plot.plot_model_fit(mmm, target_scaler=target_scaler)"
      ]
    },
    {
      "cell_type": "markdown",
      "metadata": {
        "id": "4v50_s1sKNrN"
      },
      "source": [
        "If one wants to run predictions on unseen data they can rely on the `predict`\n",
        "method:"
      ]
    },
    {
      "cell_type": "code",
      "execution_count": null,
      "metadata": {
        "executionInfo": {
          "elapsed": 4149,
          "status": "ok",
          "timestamp": 1645205625684,
          "user": {
            "displayName": "",
            "photoUrl": "",
            "userId": ""
          },
          "user_tz": -60
        },
        "id": "yQuUUolAKN0W",
        "outputId": "98f9d0f9-eee6-48ea-b643-f610d1ddce9a"
      },
      "outputs": [
        {
          "data": {
            "text/plain": [
              "(6000, 14)"
            ]
          },
          "execution_count": 13,
          "metadata": {},
          "output_type": "execute_result"
        }
      ],
      "source": [
        "# We have to scale the test media data if we have not done so before.\n",
        "new_predictions = mmm.predict(media=media_scaler.transform(media_data_test),\n",
        "                              extra_features=extra_features_scaler.transform(extra_features_test),\n",
        "                              seed=SEED)\n",
        "new_predictions.shape"
      ]
    },
    {
      "cell_type": "code",
      "execution_count": null,
      "metadata": {
        "colab": {
          "height": 311
        },
        "executionInfo": {
          "elapsed": 956,
          "status": "ok",
          "timestamp": 1645205626759,
          "user": {
            "displayName": "",
            "photoUrl": "",
            "userId": ""
          },
          "user_tz": -60
        },
        "id": "e0a9JyiMKN8q",
        "outputId": "30b82d7e-e474-4aad-b03a-f5a26e67bb1a"
      },
      "outputs": [
        {
          "data": {
            "image/png": "[encoded data removed]",
            "text/plain": [
              "\u003cFigure size 600x400 with 1 Axes\u003e"
            ]
          },
          "execution_count": 14,
          "metadata": {},
          "output_type": "execute_result"
        }
      ],
      "source": [
        "plot.plot_out_of_sample_model_fit(out_of_sample_predictions=new_predictions,\n",
        "                                 out_of_sample_target=target_scaler.transform(target[split_point:]))"
      ]
    },
    {
      "cell_type": "markdown",
      "metadata": {
        "id": "MDMW2Pe-KOEm"
      },
      "source": [
        "### Media insights"
      ]
    },
    {
      "cell_type": "code",
      "execution_count": null,
      "metadata": {
        "id": "qQUnoKKQKONT"
      },
      "outputs": [],
      "source": [
        "preds, media_effect, roi_hat = mmm.get_posterior_metrics(target_scaler=target_scaler)"
      ]
    },
    {
      "cell_type": "markdown",
      "metadata": {
        "id": "szhjLnpHKOWc"
      },
      "source": [
        "We can quickly visualise the estimated media effects with their respective\n",
        "credibility intervals"
      ]
    },
    {
      "cell_type": "code",
      "execution_count": null,
      "metadata": {
        "colab": {
          "height": 296
        },
        "executionInfo": {
          "elapsed": 290,
          "status": "ok",
          "timestamp": 1645205646671,
          "user": {
            "displayName": "",
            "photoUrl": "",
            "userId": ""
          },
          "user_tz": -60
        },
        "id": "Hi3nJDE8KOfk",
        "outputId": "13725432-4875-4123-bfe2-c57f90d49827"
      },
      "outputs": [
        {
          "data": {
            "image/png": "[encoded data removed]",
            "text/plain": [
              "\u003cFigure size 600x400 with 1 Axes\u003e"
            ]
          },
          "execution_count": 16,
          "metadata": {},
          "output_type": "execute_result"
        }
      ],
      "source": [
        "plot.plot_bars_media_metrics(metric=media_effect, metric_name=\"Media Effect\")"
      ]
    },
    {
      "cell_type": "code",
      "execution_count": null,
      "metadata": {
        "colab": {
          "height": 296
        },
        "executionInfo": {
          "elapsed": 197,
          "status": "ok",
          "timestamp": 1645205648125,
          "user": {
            "displayName": "",
            "photoUrl": "",
            "userId": ""
          },
          "user_tz": -60
        },
        "id": "oC82BdUJKOoT",
        "outputId": "cf4ff52c-8196-48f0-8b7a-cb6a695fa3c7"
      },
      "outputs": [
        {
          "data": {
            "image/png": "[encoded data removed]",
            "text/plain": [
              "\u003cFigure size 600x400 with 1 Axes\u003e"
            ]
          },
          "execution_count": 17,
          "metadata": {},
          "output_type": "execute_result"
        }
      ],
      "source": [
        "plot.plot_bars_media_metrics(metric=roi_hat, metric_name=\"ROI hat\")"
      ]
    },
    {
      "cell_type": "markdown",
      "metadata": {
        "id": "TR_m4DvmKOx0"
      },
      "source": [
        "Another vital question we can solve with MMMs is how each media channel behaves\n",
        "individually as we invest more in it.\n",
        "\n",
        "For that we can plot the curve response of all media channels with the following\n",
        "function:"
      ]
    },
    {
      "cell_type": "code",
      "execution_count": null,
      "metadata": {
        "colab": {
          "height": 1000
        },
        "executionInfo": {
          "elapsed": 12123,
          "status": "ok",
          "timestamp": 1645205667773,
          "user": {
            "displayName": "",
            "photoUrl": "",
            "userId": ""
          },
          "user_tz": -60
        },
        "id": "w6DfZdyUKO6k",
        "outputId": "4dd02756-5090-4f83-b715-642050e85456"
      },
      "outputs": [
        {
          "data": {
            "image/png": "[encoded data removed]",
            "text/plain": [
              "\u003cFigure size 1000x1400 with 5 Axes\u003e"
            ]
          },
          "execution_count": 19,
          "metadata": {},
          "output_type": "execute_result"
        }
      ],
      "source": [
        "plot.plot_response_curves(\n",
        "    media_mix_model=mmm, target_scaler=target_scaler, seed=SEED)"
      ]
    },
    {
      "cell_type": "markdown",
      "metadata": {
        "id": "qNEQkwvZKPDR"
      },
      "source": [
        "### Optimization"
      ]
    },
    {
      "cell_type": "markdown",
      "metadata": {
        "id": "0IslzAcNKPLO"
      },
      "source": [
        "The optimization is meant to solve the budget allocation questions for you.\n",
        "First you need to provide for how long you want to optimize your budget (eg. 15\n",
        "weeks in this case)."
      ]
    },
    {
      "cell_type": "markdown",
      "metadata": {
        "id": "ULQZGNMlKPT6"
      },
      "source": [
        "The optimization values will be bounded by +- 20% of the max and min historic\n",
        "values used for training. Which means the optimization won't recommend to\n",
        "completely change your strategy but how to make some budget re-allocation.\n",
        "\n",
        "You can change that percentage with the following parameters: -\n",
        "bounds_lower_pct - bounds_upper_pct\n",
        "\n",
        "Which can hold 1 value for all channels or 1 value per channel."
      ]
    },
    {
      "cell_type": "markdown",
      "metadata": {
        "id": "xDw5WtooKPde"
      },
      "source": [
        "Prices are the average price you would expect for the media units of each\n",
        "channel. If your data is already a money unit (eg. $) your prices should be an\n",
        "array of 1s."
      ]
    },
    {
      "cell_type": "code",
      "execution_count": null,
      "metadata": {
        "id": "t3TaoXYjKPmr"
      },
      "outputs": [],
      "source": [
        "prices = jnp.ones(mmm.n_media_channels)"
      ]
    },
    {
      "cell_type": "markdown",
      "metadata": {
        "id": "yF6JjbqPKP2R"
      },
      "source": [
        "The budget is how much one would like to allocate throughtout the total of\n",
        "`n_time_periods`. Make sure this amount is inline with the historic spend or\n",
        "otherwise some conditions/bounds in the optimization might not be met."
      ]
    },
    {
      "cell_type": "code",
      "execution_count": null,
      "metadata": {
        "id": "ReGi5AGTL86q"
      },
      "outputs": [],
      "source": [
        "n_time_periods = 10\n",
        "budget = jnp.sum(media_data.mean(axis=0)) * n_time_periods"
      ]
    },
    {
      "cell_type": "code",
      "execution_count": null,
      "metadata": {
        "executionInfo": {
          "elapsed": 68379,
          "status": "ok",
          "timestamp": 1645205742957,
          "user": {
            "displayName": "",
            "photoUrl": "",
            "userId": ""
          },
          "user_tz": -60
        },
        "id": "qtt9L4aPL-cs",
        "outputId": "61e4049f-2d6d-459d-db1a-7e372e0b1a30"
      },
      "outputs": [
        {
          "name": "stdout",
          "output_type": "stream",
          "text": [
            "Optimization terminated successfully.    (Exit mode 0)\n",
            "            Current function value: -4982.387182935723\n",
            "            Iterations: 23\n",
            "            Function evaluations: 138\n",
            "            Gradient evaluations: 23\n"
          ]
        }
      ],
      "source": [
        "# Run optimization with the parameters of choice.\n",
        "solution = optimize_media.find_optimal_budgets(\n",
        "    n_time_periods=n_time_periods,\n",
        "    media_mix_model=mmm,\n",
        "    extra_features=extra_features_scaler.transform(extra_features_test)[:n_time_periods],\n",
        "    budget=budget,\n",
        "    prices=prices,\n",
        "    media_scaler=media_scaler,\n",
        "    target_scaler=target_scaler,\n",
        "    seed=SEED)"
      ]
    },
    {
      "cell_type": "code",
      "execution_count": null,
      "metadata": {
        "executionInfo": {
          "elapsed": 58,
          "status": "ok",
          "timestamp": 1645205743132,
          "user": {
            "displayName": "",
            "photoUrl": "",
            "userId": ""
          },
          "user_tz": -60
        },
        "id": "C2FIJu82MAk9",
        "outputId": "19c19372-a1d7-41b3-c0c6-d10dda1afc7a"
      },
      "outputs": [
        {
          "data": {
            "text/plain": [
              "array([ 775.73632813, 1234.30847168,  773.28009033, 1217.29034424])"
            ]
          },
          "execution_count": 25,
          "metadata": {},
          "output_type": "execute_result"
        }
      ],
      "source": [
        "# Obtain the optimal weekly allocation.\n",
        "optimal_buget_allocation = solution.x\n",
        "optimal_buget_allocation"
      ]
    },
    {
      "cell_type": "code",
      "execution_count": null,
      "metadata": {
        "executionInfo": {
          "elapsed": 56,
          "status": "ok",
          "timestamp": 1645205743283,
          "user": {
            "displayName": "",
            "photoUrl": "",
            "userId": ""
          },
          "user_tz": -60
        },
        "id": "XS1rHOfaMCBt",
        "outputId": "35a8d3ef-4215-42cd-ef23-efaf0ded31cc"
      },
      "outputs": [
        {
          "data": {
            "text/plain": [
              "(DeviceArray(4000.6152, dtype=float32), 4000.615234375)"
            ]
          },
          "execution_count": 26,
          "metadata": {},
          "output_type": "execute_result"
        }
      ],
      "source": [
        "# Both values should be very close in order to compare KPI\n",
        "budget, optimal_buget_allocation.sum()"
      ]
    },
    {
      "cell_type": "markdown",
      "metadata": {
        "id": "LvMc28XKMEt_"
      },
      "source": [
        "We can double check the budget constraint was met:"
      ]
    },
    {
      "cell_type": "code",
      "execution_count": null,
      "metadata": {
        "executionInfo": {
          "elapsed": 58,
          "status": "ok",
          "timestamp": 1645205743446,
          "user": {
            "displayName": "",
            "photoUrl": "",
            "userId": ""
          },
          "user_tz": -60
        },
        "id": "ffZl2W-pMFrD",
        "outputId": "b09286b1-45b0-4448-bf34-e75b1afda232"
      },
      "outputs": [
        {
          "data": {
            "text/plain": [
              "(DeviceArray(4000.6152, dtype=float32), DeviceArray(4000.615, dtype=float32))"
            ]
          },
          "execution_count": 27,
          "metadata": {},
          "output_type": "execute_result"
        }
      ],
      "source": [
        "# Both numbers should be almost equal\n",
        "budget, jnp.sum(solution.x * prices)"
      ]
    },
    {
      "cell_type": "markdown",
      "metadata": {
        "id": "o3UbFu9VSRq9"
      },
      "source": [
        "## Saving the model to disk"
      ]
    },
    {
      "cell_type": "code",
      "execution_count": null,
      "metadata": {
        "id": "g5SxNNBRPs6n"
      },
      "outputs": [],
      "source": [
        "# We can use the utilities for saving models to disk.\n",
        "file_path = \"media_mix_model.pkl\"\n",
        "utils.save_model(media_mix_model=mmm, file_path=file_path)"
      ]
    },
    {
      "cell_type": "code",
      "execution_count": null,
      "metadata": {
        "executionInfo": {
          "elapsed": 76,
          "status": "ok",
          "timestamp": 1645205743817,
          "user": {
            "displayName": "",
            "photoUrl": "",
            "userId": ""
          },
          "user_tz": -60
        },
        "id": "74Fx-1N4HQsJ",
        "outputId": "fc88ac80-b350-48c6-d07a-1b1e2d5799ba"
      },
      "outputs": [
        {
          "data": {
            "text/plain": [
              "(6000, 4)"
            ]
          },
          "execution_count": 29,
          "metadata": {},
          "output_type": "execute_result"
        }
      ],
      "source": [
        "# Once saved one can load the models.\n",
        "loaded_mmm = utils.load_model(file_path=file_path)\n",
        "loaded_mmm.trace[\"beta_media\"].shape # Example of accessing any of the model values."
      ]
    }
  ],
  "metadata": {
    "colab": {
      "collapsed_sections": [],
      "last_runtime": {
        "build_target": "//learning/deepmind/public/tools/ml_python:ml_notebook",
        "kind": "private"
      },
      "name": "simple_end_to_end_demo.ipynb",
      "provenance": [
        {
          "file_id": "1pa-fx5Uxyj9IiEM02BmGZD3OkTAu7RPw",
          "timestamp": 1643805668822
        }
      ]
    },
    "kernelspec": {
      "display_name": "Python 3",
      "name": "python3"
    },
    "language_info": {
      "name": "python"
    },
    "widgets": {
      "application/vnd.jupyter.widget-state+json": {
        "217b9ec3c56d4b77b0e93133cb9f6a13": {
          "model_module": "@jupyter-widgets/base",
          "model_module_version": "1.2.0",
          "model_name": "LayoutModel",
          "state": {
            "_model_module": "@jupyter-widgets/base",
            "_model_module_version": "1.2.0",
            "_model_name": "LayoutModel",
            "_view_count": null,
            "_view_module": "@jupyter-widgets/base",
            "_view_module_version": "1.2.0",
            "_view_name": "LayoutView",
            "align_content": null,
            "align_items": null,
            "align_self": null,
            "border": null,
            "bottom": null,
            "display": null,
            "flex": null,
            "flex_flow": null,
            "grid_area": null,
            "grid_auto_columns": null,
            "grid_auto_flow": null,
            "grid_auto_rows": null,
            "grid_column": null,
            "grid_gap": null,
            "grid_row": null,
            "grid_template_areas": null,
            "grid_template_columns": null,
            "grid_template_rows": null,
            "height": null,
            "justify_content": null,
            "justify_items": null,
            "left": null,
            "margin": null,
            "max_height": null,
            "max_width": null,
            "min_height": null,
            "min_width": null,
            "object_fit": null,
            "object_position": null,
            "order": null,
            "overflow": null,
            "overflow_x": null,
            "overflow_y": null,
            "padding": null,
            "right": null,
            "top": null,
            "visibility": null,
            "width": null
          }
        },
        "289a1071e37b415ebd18ad2682dfa1c7": {
          "model_module": "@jupyter-widgets/controls",
          "model_module_version": "1.5.0",
          "model_name": "HTMLModel",
          "state": {
            "_dom_classes": [],
            "_model_module": "@jupyter-widgets/controls",
            "_model_module_version": "1.5.0",
            "_model_name": "HTMLModel",
            "_view_count": null,
            "_view_module": "@jupyter-widgets/controls",
            "_view_module_version": "1.5.0",
            "_view_name": "HTMLView",
            "description": "",
            "description_tooltip": null,
            "layout": "IPY_MODEL_315b3f4b6419432fa5d4480934a0e098",
            "placeholder": "​",
            "style": "IPY_MODEL_59af20737f7e4262bd14d64674651e4e",
            "value": "Running chain 1: 100%"
          }
        },
        "2a9007f68c174a87aae40236dcfb4e03": {
          "model_module": "@jupyter-widgets/controls",
          "model_module_version": "1.5.0",
          "model_name": "DescriptionStyleModel",
          "state": {
            "_model_module": "@jupyter-widgets/controls",
            "_model_module_version": "1.5.0",
            "_model_name": "DescriptionStyleModel",
            "_view_count": null,
            "_view_module": "@jupyter-widgets/base",
            "_view_module_version": "1.2.0",
            "_view_name": "StyleView",
            "description_width": ""
          }
        },
        "315b3f4b6419432fa5d4480934a0e098": {
          "model_module": "@jupyter-widgets/base",
          "model_module_version": "1.2.0",
          "model_name": "LayoutModel",
          "state": {
            "_model_module": "@jupyter-widgets/base",
            "_model_module_version": "1.2.0",
            "_model_name": "LayoutModel",
            "_view_count": null,
            "_view_module": "@jupyter-widgets/base",
            "_view_module_version": "1.2.0",
            "_view_name": "LayoutView",
            "align_content": null,
            "align_items": null,
            "align_self": null,
            "border": null,
            "bottom": null,
            "display": null,
            "flex": null,
            "flex_flow": null,
            "grid_area": null,
            "grid_auto_columns": null,
            "grid_auto_flow": null,
            "grid_auto_rows": null,
            "grid_column": null,
            "grid_gap": null,
            "grid_row": null,
            "grid_template_areas": null,
            "grid_template_columns": null,
            "grid_template_rows": null,
            "height": null,
            "justify_content": null,
            "justify_items": null,
            "left": null,
            "margin": null,
            "max_height": null,
            "max_width": null,
            "min_height": null,
            "min_width": null,
            "object_fit": null,
            "object_position": null,
            "order": null,
            "overflow": null,
            "overflow_x": null,
            "overflow_y": null,
            "padding": null,
            "right": null,
            "top": null,
            "visibility": null,
            "width": null
          }
        },
        "595552fc6192457cb05793cdd952c4a6": {
          "model_module": "@jupyter-widgets/base",
          "model_module_version": "1.2.0",
          "model_name": "LayoutModel",
          "state": {
            "_model_module": "@jupyter-widgets/base",
            "_model_module_version": "1.2.0",
            "_model_name": "LayoutModel",
            "_view_count": null,
            "_view_module": "@jupyter-widgets/base",
            "_view_module_version": "1.2.0",
            "_view_name": "LayoutView",
            "align_content": null,
            "align_items": null,
            "align_self": null,
            "border": null,
            "bottom": null,
            "display": null,
            "flex": null,
            "flex_flow": null,
            "grid_area": null,
            "grid_auto_columns": null,
            "grid_auto_flow": null,
            "grid_auto_rows": null,
            "grid_column": null,
            "grid_gap": null,
            "grid_row": null,
            "grid_template_areas": null,
            "grid_template_columns": null,
            "grid_template_rows": null,
            "height": null,
            "justify_content": null,
            "justify_items": null,
            "left": null,
            "margin": null,
            "max_height": null,
            "max_width": null,
            "min_height": null,
            "min_width": null,
            "object_fit": null,
            "object_position": null,
            "order": null,
            "overflow": null,
            "overflow_x": null,
            "overflow_y": null,
            "padding": null,
            "right": null,
            "top": null,
            "visibility": null,
            "width": null
          }
        },
        "59af20737f7e4262bd14d64674651e4e": {
          "model_module": "@jupyter-widgets/controls",
          "model_module_version": "1.5.0",
          "model_name": "DescriptionStyleModel",
          "state": {
            "_model_module": "@jupyter-widgets/controls",
            "_model_module_version": "1.5.0",
            "_model_name": "DescriptionStyleModel",
            "_view_count": null,
            "_view_module": "@jupyter-widgets/base",
            "_view_module_version": "1.2.0",
            "_view_name": "StyleView",
            "description_width": ""
          }
        },
        "666f36f5bc8644e985452fa48b6dc5d1": {
          "model_module": "@jupyter-widgets/controls",
          "model_module_version": "1.5.0",
          "model_name": "ProgressStyleModel",
          "state": {
            "_model_module": "@jupyter-widgets/controls",
            "_model_module_version": "1.5.0",
            "_model_name": "ProgressStyleModel",
            "_view_count": null,
            "_view_module": "@jupyter-widgets/base",
            "_view_module_version": "1.2.0",
            "_view_name": "StyleView",
            "bar_color": null,
            "description_width": ""
          }
        },
        "73d6af97375b474a83533c089fb52cd9": {
          "model_module": "@jupyter-widgets/controls",
          "model_module_version": "1.5.0",
          "model_name": "HBoxModel",
          "state": {
            "_dom_classes": [],
            "_model_module": "@jupyter-widgets/controls",
            "_model_module_version": "1.5.0",
            "_model_name": "HBoxModel",
            "_view_count": null,
            "_view_module": "@jupyter-widgets/controls",
            "_view_module_version": "1.5.0",
            "_view_name": "HBoxView",
            "box_style": "",
            "children": [
              "IPY_MODEL_c8d9c19f308b4676896e7f009535be12",
              "IPY_MODEL_948eb9477dd0415388ea2c95c1258924",
              "IPY_MODEL_763519d6d53743fa8aefe1cc5b144176"
            ],
            "layout": "IPY_MODEL_217b9ec3c56d4b77b0e93133cb9f6a13"
          }
        },
        "763519d6d53743fa8aefe1cc5b144176": {
          "model_module": "@jupyter-widgets/controls",
          "model_module_version": "1.5.0",
          "model_name": "HTMLModel",
          "state": {
            "_dom_classes": [],
            "_model_module": "@jupyter-widgets/controls",
            "_model_module_version": "1.5.0",
            "_model_name": "HTMLModel",
            "_view_count": null,
            "_view_module": "@jupyter-widgets/controls",
            "_view_module_version": "1.5.0",
            "_view_name": "HTMLView",
            "description": "",
            "description_tooltip": null,
            "layout": "IPY_MODEL_8b2c7ca5e37a4394b4348771840ed9f1",
            "placeholder": "​",
            "style": "IPY_MODEL_2a9007f68c174a87aae40236dcfb4e03",
            "value": " 6000/6000 [05:56\u0026lt;00:00, 19.11it/s]"
          }
        },
        "777c35874763467b91595617e42319dc": {
          "model_module": "@jupyter-widgets/controls",
          "model_module_version": "1.5.0",
          "model_name": "HTMLModel",
          "state": {
            "_dom_classes": [],
            "_model_module": "@jupyter-widgets/controls",
            "_model_module_version": "1.5.0",
            "_model_name": "HTMLModel",
            "_view_count": null,
            "_view_module": "@jupyter-widgets/controls",
            "_view_module_version": "1.5.0",
            "_view_name": "HTMLView",
            "description": "",
            "description_tooltip": null,
            "layout": "IPY_MODEL_bf69ddc2259b4949b8365afb0e322bbd",
            "placeholder": "​",
            "style": "IPY_MODEL_a7845da7e433494e93bb6714d8537ebe",
            "value": " 6000/6000 [05:56\u0026lt;00:00, 19.06it/s]"
          }
        },
        "870dde5f9dda496d93d9bd5659059e48": {
          "model_module": "@jupyter-widgets/base",
          "model_module_version": "1.2.0",
          "model_name": "LayoutModel",
          "state": {
            "_model_module": "@jupyter-widgets/base",
            "_model_module_version": "1.2.0",
            "_model_name": "LayoutModel",
            "_view_count": null,
            "_view_module": "@jupyter-widgets/base",
            "_view_module_version": "1.2.0",
            "_view_name": "LayoutView",
            "align_content": null,
            "align_items": null,
            "align_self": null,
            "border": null,
            "bottom": null,
            "display": null,
            "flex": null,
            "flex_flow": null,
            "grid_area": null,
            "grid_auto_columns": null,
            "grid_auto_flow": null,
            "grid_auto_rows": null,
            "grid_column": null,
            "grid_gap": null,
            "grid_row": null,
            "grid_template_areas": null,
            "grid_template_columns": null,
            "grid_template_rows": null,
            "height": null,
            "justify_content": null,
            "justify_items": null,
            "left": null,
            "margin": null,
            "max_height": null,
            "max_width": null,
            "min_height": null,
            "min_width": null,
            "object_fit": null,
            "object_position": null,
            "order": null,
            "overflow": null,
            "overflow_x": null,
            "overflow_y": null,
            "padding": null,
            "right": null,
            "top": null,
            "visibility": null,
            "width": null
          }
        },
        "8a557461849d4d77b9d525c5d28830b5": {
          "model_module": "@jupyter-widgets/controls",
          "model_module_version": "1.5.0",
          "model_name": "DescriptionStyleModel",
          "state": {
            "_model_module": "@jupyter-widgets/controls",
            "_model_module_version": "1.5.0",
            "_model_name": "DescriptionStyleModel",
            "_view_count": null,
            "_view_module": "@jupyter-widgets/base",
            "_view_module_version": "1.2.0",
            "_view_name": "StyleView",
            "description_width": ""
          }
        },
        "8b2c7ca5e37a4394b4348771840ed9f1": {
          "model_module": "@jupyter-widgets/base",
          "model_module_version": "1.2.0",
          "model_name": "LayoutModel",
          "state": {
            "_model_module": "@jupyter-widgets/base",
            "_model_module_version": "1.2.0",
            "_model_name": "LayoutModel",
            "_view_count": null,
            "_view_module": "@jupyter-widgets/base",
            "_view_module_version": "1.2.0",
            "_view_name": "LayoutView",
            "align_content": null,
            "align_items": null,
            "align_self": null,
            "border": null,
            "bottom": null,
            "display": null,
            "flex": null,
            "flex_flow": null,
            "grid_area": null,
            "grid_auto_columns": null,
            "grid_auto_flow": null,
            "grid_auto_rows": null,
            "grid_column": null,
            "grid_gap": null,
            "grid_row": null,
            "grid_template_areas": null,
            "grid_template_columns": null,
            "grid_template_rows": null,
            "height": null,
            "justify_content": null,
            "justify_items": null,
            "left": null,
            "margin": null,
            "max_height": null,
            "max_width": null,
            "min_height": null,
            "min_width": null,
            "object_fit": null,
            "object_position": null,
            "order": null,
            "overflow": null,
            "overflow_x": null,
            "overflow_y": null,
            "padding": null,
            "right": null,
            "top": null,
            "visibility": null,
            "width": null
          }
        },
        "948eb9477dd0415388ea2c95c1258924": {
          "model_module": "@jupyter-widgets/controls",
          "model_module_version": "1.5.0",
          "model_name": "FloatProgressModel",
          "state": {
            "_dom_classes": [],
            "_model_module": "@jupyter-widgets/controls",
            "_model_module_version": "1.5.0",
            "_model_name": "FloatProgressModel",
            "_view_count": null,
            "_view_module": "@jupyter-widgets/controls",
            "_view_module_version": "1.5.0",
            "_view_name": "ProgressView",
            "bar_style": "success",
            "description": "",
            "description_tooltip": null,
            "layout": "IPY_MODEL_595552fc6192457cb05793cdd952c4a6",
            "max": 6000,
            "min": 0,
            "orientation": "horizontal",
            "style": "IPY_MODEL_9771d990588d4552ab043b222efe774a",
            "value": 6000
          }
        },
        "9771d990588d4552ab043b222efe774a": {
          "model_module": "@jupyter-widgets/controls",
          "model_module_version": "1.5.0",
          "model_name": "ProgressStyleModel",
          "state": {
            "_model_module": "@jupyter-widgets/controls",
            "_model_module_version": "1.5.0",
            "_model_name": "ProgressStyleModel",
            "_view_count": null,
            "_view_module": "@jupyter-widgets/base",
            "_view_module_version": "1.2.0",
            "_view_name": "StyleView",
            "bar_color": null,
            "description_width": ""
          }
        },
        "9e2be3ade77e483b8fb39ee3a83b6117": {
          "model_module": "@jupyter-widgets/base",
          "model_module_version": "1.2.0",
          "model_name": "LayoutModel",
          "state": {
            "_model_module": "@jupyter-widgets/base",
            "_model_module_version": "1.2.0",
            "_model_name": "LayoutModel",
            "_view_count": null,
            "_view_module": "@jupyter-widgets/base",
            "_view_module_version": "1.2.0",
            "_view_name": "LayoutView",
            "align_content": null,
            "align_items": null,
            "align_self": null,
            "border": null,
            "bottom": null,
            "display": null,
            "flex": null,
            "flex_flow": null,
            "grid_area": null,
            "grid_auto_columns": null,
            "grid_auto_flow": null,
            "grid_auto_rows": null,
            "grid_column": null,
            "grid_gap": null,
            "grid_row": null,
            "grid_template_areas": null,
            "grid_template_columns": null,
            "grid_template_rows": null,
            "height": null,
            "justify_content": null,
            "justify_items": null,
            "left": null,
            "margin": null,
            "max_height": null,
            "max_width": null,
            "min_height": null,
            "min_width": null,
            "object_fit": null,
            "object_position": null,
            "order": null,
            "overflow": null,
            "overflow_x": null,
            "overflow_y": null,
            "padding": null,
            "right": null,
            "top": null,
            "visibility": null,
            "width": null
          }
        },
        "a7845da7e433494e93bb6714d8537ebe": {
          "model_module": "@jupyter-widgets/controls",
          "model_module_version": "1.5.0",
          "model_name": "DescriptionStyleModel",
          "state": {
            "_model_module": "@jupyter-widgets/controls",
            "_model_module_version": "1.5.0",
            "_model_name": "DescriptionStyleModel",
            "_view_count": null,
            "_view_module": "@jupyter-widgets/base",
            "_view_module_version": "1.2.0",
            "_view_name": "StyleView",
            "description_width": ""
          }
        },
        "bf69ddc2259b4949b8365afb0e322bbd": {
          "model_module": "@jupyter-widgets/base",
          "model_module_version": "1.2.0",
          "model_name": "LayoutModel",
          "state": {
            "_model_module": "@jupyter-widgets/base",
            "_model_module_version": "1.2.0",
            "_model_name": "LayoutModel",
            "_view_count": null,
            "_view_module": "@jupyter-widgets/base",
            "_view_module_version": "1.2.0",
            "_view_name": "LayoutView",
            "align_content": null,
            "align_items": null,
            "align_self": null,
            "border": null,
            "bottom": null,
            "display": null,
            "flex": null,
            "flex_flow": null,
            "grid_area": null,
            "grid_auto_columns": null,
            "grid_auto_flow": null,
            "grid_auto_rows": null,
            "grid_column": null,
            "grid_gap": null,
            "grid_row": null,
            "grid_template_areas": null,
            "grid_template_columns": null,
            "grid_template_rows": null,
            "height": null,
            "justify_content": null,
            "justify_items": null,
            "left": null,
            "margin": null,
            "max_height": null,
            "max_width": null,
            "min_height": null,
            "min_width": null,
            "object_fit": null,
            "object_position": null,
            "order": null,
            "overflow": null,
            "overflow_x": null,
            "overflow_y": null,
            "padding": null,
            "right": null,
            "top": null,
            "visibility": null,
            "width": null
          }
        },
        "c8d9c19f308b4676896e7f009535be12": {
          "model_module": "@jupyter-widgets/controls",
          "model_module_version": "1.5.0",
          "model_name": "HTMLModel",
          "state": {
            "_dom_classes": [],
            "_model_module": "@jupyter-widgets/controls",
            "_model_module_version": "1.5.0",
            "_model_name": "HTMLModel",
            "_view_count": null,
            "_view_module": "@jupyter-widgets/controls",
            "_view_module_version": "1.5.0",
            "_view_name": "HTMLView",
            "description": "",
            "description_tooltip": null,
            "layout": "IPY_MODEL_9e2be3ade77e483b8fb39ee3a83b6117",
            "placeholder": "​",
            "style": "IPY_MODEL_8a557461849d4d77b9d525c5d28830b5",
            "value": "Running chain 0: 100%"
          }
        },
        "df0e7deb5e514f42a595525032af0881": {
          "model_module": "@jupyter-widgets/controls",
          "model_module_version": "1.5.0",
          "model_name": "HBoxModel",
          "state": {
            "_dom_classes": [],
            "_model_module": "@jupyter-widgets/controls",
            "_model_module_version": "1.5.0",
            "_model_name": "HBoxModel",
            "_view_count": null,
            "_view_module": "@jupyter-widgets/controls",
            "_view_module_version": "1.5.0",
            "_view_name": "HBoxView",
            "box_style": "",
            "children": [
              "IPY_MODEL_289a1071e37b415ebd18ad2682dfa1c7",
              "IPY_MODEL_f8901368df23423fa2786938c7a65ac6",
              "IPY_MODEL_777c35874763467b91595617e42319dc"
            ],
            "layout": "IPY_MODEL_ecd29d27fdae473d9cacd35022b128dc"
          }
        },
        "ecd29d27fdae473d9cacd35022b128dc": {
          "model_module": "@jupyter-widgets/base",
          "model_module_version": "1.2.0",
          "model_name": "LayoutModel",
          "state": {
            "_model_module": "@jupyter-widgets/base",
            "_model_module_version": "1.2.0",
            "_model_name": "LayoutModel",
            "_view_count": null,
            "_view_module": "@jupyter-widgets/base",
            "_view_module_version": "1.2.0",
            "_view_name": "LayoutView",
            "align_content": null,
            "align_items": null,
            "align_self": null,
            "border": null,
            "bottom": null,
            "display": null,
            "flex": null,
            "flex_flow": null,
            "grid_area": null,
            "grid_auto_columns": null,
            "grid_auto_flow": null,
            "grid_auto_rows": null,
            "grid_column": null,
            "grid_gap": null,
            "grid_row": null,
            "grid_template_areas": null,
            "grid_template_columns": null,
            "grid_template_rows": null,
            "height": null,
            "justify_content": null,
            "justify_items": null,
            "left": null,
            "margin": null,
            "max_height": null,
            "max_width": null,
            "min_height": null,
            "min_width": null,
            "object_fit": null,
            "object_position": null,
            "order": null,
            "overflow": null,
            "overflow_x": null,
            "overflow_y": null,
            "padding": null,
            "right": null,
            "top": null,
            "visibility": null,
            "width": null
          }
        },
        "f8901368df23423fa2786938c7a65ac6": {
          "model_module": "@jupyter-widgets/controls",
          "model_module_version": "1.5.0",
          "model_name": "FloatProgressModel",
          "state": {
            "_dom_classes": [],
            "_model_module": "@jupyter-widgets/controls",
            "_model_module_version": "1.5.0",
            "_model_name": "FloatProgressModel",
            "_view_count": null,
            "_view_module": "@jupyter-widgets/controls",
            "_view_module_version": "1.5.0",
            "_view_name": "ProgressView",
            "bar_style": "success",
            "description": "",
            "description_tooltip": null,
            "layout": "IPY_MODEL_870dde5f9dda496d93d9bd5659059e48",
            "max": 6000,
            "min": 0,
            "orientation": "horizontal",
            "style": "IPY_MODEL_666f36f5bc8644e985452fa48b6dc5d1",
            "value": 6000
          }
        }
      }
    }
  },
  "nbformat": 4,
  "nbformat_minor": 0
}
